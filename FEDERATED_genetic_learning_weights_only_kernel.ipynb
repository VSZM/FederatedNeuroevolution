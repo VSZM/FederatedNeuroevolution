{
 "cells": [
  {
   "cell_type": "code",
   "execution_count": null,
   "metadata": {},
   "outputs": [],
   "source": [
    "%%javascript\n",
    "IPython.notebook.kernel.execute('nb_name = \"' + IPython.notebook.notebook_name + '\"')"
   ]
  },
  {
   "cell_type": "code",
   "execution_count": null,
   "metadata": {
    "pixiedust": {
     "displayParams": {}
    }
   },
   "outputs": [],
   "source": [
    "%load_ext autoreload\n",
    "%autoreload 2\n",
    "__file__ = nb_name[:-6]\n",
    "\n",
    "# based on https://towardsdatascience.com/artificial-neural-networks-optimization-using-genetic-algorithm-with-python-1fe8ed17733e\n",
    "# different crossover function: mean\n",
    "from common import load_df, df_to_ML_data, timed_method, ts\n",
    "from genetic import run_federated_evolution, individual_fitness_f1, initialize_evolution, individual_fitness_nmse\n",
    "from genetic import federated_population_fitness_model_based, federated_population_fitness_node_based\n",
    "\n",
    "\n",
    "from IPython.core.display import Javascript\n",
    "from IPython.display import display\n",
    "import os\n",
    "os.environ['TF_CPP_MIN_LOG_LEVEL'] = '2' \n",
    "import numpy as np\n",
    "import pickle\n",
    "import keras\n",
    "from keras.models import model_from_json\n",
    "from keras import metrics\n",
    "import tensorflow as tf\n",
    "from tqdm import tqdm_notebook as tqdm\n",
    "import matplotlib\n",
    "import matplotlib.pyplot\n",
    "import logging\n",
    "import random\n",
    "import sys\n",
    "\n",
    "\n",
    "logging.basicConfig(format='%(asctime)s | %(levelname)s : %(message)s',level=logging.INFO, \n",
    "                    filename=__file__ + ts() + '.log', filemode='w+')\n",
    "\n",
    "\n",
    "log = logging.getLogger(__name__)\n",
    "\n",
    "config = tf.ConfigProto()#device_count = {'GPU': 0})\n",
    "config.gpu_options.per_process_gpu_memory_fraction = 0.2\n",
    "config.gpu_options.allow_growth = True\n",
    "keras.backend.tensorflow_backend.set_session(tf.Session(config=config))"
   ]
  },
  {
   "cell_type": "code",
   "execution_count": null,
   "metadata": {},
   "outputs": [],
   "source": [
    "with open('json_weights_shallow.pkl', 'rb') as f:\n",
    "    model_topology_json, weights = pickle.load(f)\n",
    "\n",
    "(model_topology_json, weights)"
   ]
  },
  {
   "cell_type": "code",
   "execution_count": null,
   "metadata": {},
   "outputs": [],
   "source": [
    "X_train, X_test, y_train, y_test, y_train_argmax, y_test_argmax = df_to_ML_data(load_df())"
   ]
  },
  {
   "cell_type": "code",
   "execution_count": null,
   "metadata": {},
   "outputs": [],
   "source": [
    "node_count = 100\n",
    "node_activation_chance = 0.1\n",
    "population_size = 100\n",
    "num_parents_mating = 8\n",
    "num_generations = 10000\n",
    "mutation_chance = 0.01\n",
    "mutation_rate = 5\n",
    "stuck_multiplier = 1\n",
    "stuck_evasion_rate = 1.25\n",
    "stuck_multiplier_max = 5\n",
    "save_interval = 1\n",
    "plot_interval = 10000\n",
    "federated_population_fitness = federated_population_fitness_model_based\n",
    "individual_fitness = individual_fitness_nmse\n",
    "\n",
    "\n"
   ]
  },
  {
   "cell_type": "code",
   "execution_count": null,
   "metadata": {},
   "outputs": [],
   "source": [
    "generation_start, best_fitness_of_each_generation, best_accuracy_of_each_generation, best_model_of_each_generation,\\\n",
    "    population_weights = initialize_evolution(__file__, population_size, weights)"
   ]
  },
  {
   "cell_type": "code",
   "execution_count": null,
   "metadata": {},
   "outputs": [],
   "source": [
    "run_federated_evolution(node_count, node_activation_chance, X_train, y_train, X_test, y_test, \\\n",
    "                    num_parents_mating, num_generations, federated_population_fitness, individual_fitness,\\\n",
    "                    generation_start,mutation_chance,mutation_rate,\\\n",
    "                    best_fitness_of_each_generation, best_accuracy_of_each_generation, best_model_of_each_generation, population_weights,\\\n",
    "                    plot_interval, save_interval, __file__)"
   ]
  },
  {
   "cell_type": "code",
   "execution_count": null,
   "metadata": {},
   "outputs": [],
   "source": [
    "import IPython\n",
    "IPython.display.Audio(\"F:\\\\Tresorit\\\\01 - Startup Screen.mp3\", autoplay=True)\n"
   ]
  },
  {
   "cell_type": "code",
   "execution_count": null,
   "metadata": {},
   "outputs": [],
   "source": [
    "from node import Node\n",
    "import pickle\n",
    "\n",
    "n = Node(None, [1, 2], [[0, 1], [1, 0]], 0.2)\n",
    "\n",
    "with open('asd', 'wb') as f:\n",
    "    pickle.dump(n, f)\n",
    "    \n",
    "with open('asd', 'rb') as f:\n",
    "    n2 = pickle.load(f)\n",
    "\n",
    "n == n2"
   ]
  }
 ],
 "metadata": {
  "kernelspec": {
   "display_name": "TensorFlow-GPU",
   "language": "python",
   "name": "tf-gpu"
  },
  "language_info": {
   "codemirror_mode": {
    "name": "ipython",
    "version": 3
   },
   "file_extension": ".py",
   "mimetype": "text/x-python",
   "name": "python",
   "nbconvert_exporter": "python",
   "pygments_lexer": "ipython3",
   "version": "3.6.8"
  }
 },
 "nbformat": 4,
 "nbformat_minor": 2
}
