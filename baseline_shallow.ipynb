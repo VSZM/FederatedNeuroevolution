{
 "cells": [
  {
   "cell_type": "code",
   "execution_count": 1,
   "metadata": {},
   "outputs": [
    {
     "name": "stderr",
     "output_type": "stream",
     "text": [
      "Using TensorFlow backend.\n"
     ]
    }
   ],
   "source": [
    "from common import Trial\n",
    "from typing import List\n",
    "from tqdm import tqdm\n",
    "import re\n",
    "import traceback\n",
    "import numpy as np\n",
    "import os\n",
    "import pandas as pd\n",
    "import sys\n",
    "from sklearn.model_selection import train_test_split\n",
    "import keras\n",
    "import keras.backend as K\n",
    "from keras.layers import Dense, Flatten, BatchNormalization, Dropout, Lambda\n",
    "from keras.layers import Conv2D, AveragePooling2D\n",
    "from keras.models import Sequential\n",
    "import matplotlib.pylab as plt\n",
    "import tensorflow as tf\n",
    "from keras.callbacks import TensorBoard\n",
    "\n"
   ]
  },
  {
   "cell_type": "code",
   "execution_count": 2,
   "metadata": {},
   "outputs": [],
   "source": [
    "channel_map = {'FP1': 0,\n",
    " 'FP2': 1,\n",
    " 'F7': 2,\n",
    " 'F8': 3,\n",
    " 'AF1': 4,\n",
    " 'AF2': 5,\n",
    " 'FZ': 6,\n",
    " 'F4': 7,\n",
    " 'F3': 8,\n",
    " 'FC6': 9,\n",
    " 'FC5': 10,\n",
    " 'FC2': 11,\n",
    " 'FC1': 12,\n",
    " 'T8': 13,\n",
    " 'T7': 14,\n",
    " 'CZ': 15,\n",
    " 'C3': 16,\n",
    " 'C4': 17,\n",
    " 'CP5': 18,\n",
    " 'CP6': 19,\n",
    " 'CP1': 20,\n",
    " 'CP2': 21,\n",
    " 'P3': 22,\n",
    " 'P4': 23,\n",
    " 'PZ': 24,\n",
    " 'P8': 25,\n",
    " 'P7': 26,\n",
    " 'PO2': 27,\n",
    " 'PO1': 28,\n",
    " 'O2': 29,\n",
    " 'O1': 30,\n",
    " 'X': 31,\n",
    " 'AF7': 32,\n",
    " 'AF8': 33,\n",
    " 'F5': 34,\n",
    " 'F6': 35,\n",
    " 'FT7': 36,\n",
    " 'FT8': 37,\n",
    " 'FPZ': 38,\n",
    " 'FC4': 39,\n",
    " 'FC3': 40,\n",
    " 'C6': 41,\n",
    " 'C5': 42,\n",
    " 'F2': 43,\n",
    " 'F1': 44,\n",
    " 'TP8': 45,\n",
    " 'TP7': 46,\n",
    " 'AFZ': 47,\n",
    " 'CP3': 48,\n",
    " 'CP4': 49,\n",
    " 'P5': 50,\n",
    " 'P6': 51,\n",
    " 'C1': 52,\n",
    " 'C2': 53,\n",
    " 'PO7': 54,\n",
    " 'PO8': 55,\n",
    " 'FCZ': 56,\n",
    " 'POZ': 57,\n",
    " 'OZ': 58,\n",
    " 'P2': 59,\n",
    " 'P1': 60,\n",
    " 'CPZ': 61,\n",
    " 'nd': 62,\n",
    " 'Y': 63}"
   ]
  },
  {
   "cell_type": "code",
   "execution_count": 3,
   "metadata": {},
   "outputs": [
    {
     "name": "stdout",
     "output_type": "stream",
     "text": [
      "# co2a0000364.rd\n",
      "# 120 trials, 64 chans, 416 samples 368 post_stim samples\n",
      "# 3.906000 msecs uV\n",
      "# S1 obj , trial 0\n",
      "# FP1 chan 0\n",
      "0 FP1 0 -8.921\n",
      "0 FP1 1 -8.433\n",
      "0 FP1 2 -2.574\n",
      "0 FP1 3 5.239\n",
      "0 FP1 4 11.587\n"
     ]
    }
   ],
   "source": [
    "with open('eeg_full/co2a0000364.txt', 'r') as f:\n",
    "    file_content = f.read()\n",
    "    \n",
    "print(file_content[:200])\n"
   ]
  },
  {
   "cell_type": "code",
   "execution_count": 4,
   "metadata": {},
   "outputs": [],
   "source": [
    "trials = list(filter(lambda string: len(string) > 0, re.split(r'^# co\\w{9}.rd', file_content, flags=re.MULTILINE)))\n",
    "trials[0]\n",
    "\n",
    "trial = trials[0]\n",
    "subject_id = file_content[2:13]\n",
    "if 'a' == subject_id[3]:\n",
    "    subject_class = 1\n",
    "elif 'c' == subject_id[3]:\n",
    "    subject_class = 0\n",
    "else:\n",
    "    raise ValueError('Invalid subject class: ' + subject_id)\n",
    "    \n",
    "lines = trial.split('\\n')\n",
    "trial_type_str, trial_number = tuple(lines[3].split(' , trial'))\n",
    "trial_number = int(trial_number)\n",
    "\n",
    "if trial_type_str == '# S1 obj':\n",
    "    trial_type = 0\n",
    "elif trial_type_str == '# S2 match':\n",
    "    trial_type = 1\n",
    "elif trial_type_str == '# S2 nomatch':\n",
    "    trial_type = 2\n",
    "else:\n",
    "    raise ValueError('Invalid trial_type_str: ' + trial_type_str)\n",
    "\n",
    "lines = lines[4:]\n"
   ]
  },
  {
   "cell_type": "code",
   "execution_count": 5,
   "metadata": {},
   "outputs": [
    {
     "name": "stdout",
     "output_type": "stream",
     "text": [
      "[[  0.      0.     -8.921]\n",
      " [  0.      1.     -8.433]\n",
      " [  0.      2.     -2.574]\n",
      " ...\n",
      " [ 63.    253.     15.849]\n",
      " [ 63.    254.     16.337]\n",
      " [ 63.    255.     14.872]]\n"
     ]
    }
   ],
   "source": [
    "measurements = [(channel_map[line.split()[1]], int(line.split()[2]), float(line.split()[3])) for line in lines if len(line) > 0 and line[0] != '#']\n",
    "measurements = np.array(measurements)\n",
    "\n",
    "print(measurements)"
   ]
  },
  {
   "cell_type": "code",
   "execution_count": 6,
   "metadata": {},
   "outputs": [],
   "source": [
    "eeg = measurements[:, 2].reshape((64,256))\n",
    "#eeg = np.array([np.mean(eeg_channel.reshape(-1, 4), axis=1) for eeg_channel in eeg[::1]])\n",
    "eeg = (eeg - np.min(eeg))/np.ptp(eeg)"
   ]
  },
  {
   "cell_type": "code",
   "execution_count": 7,
   "metadata": {},
   "outputs": [
    {
     "data": {
      "text/plain": [
       "array([[0.33692014, 0.34224039, 0.40611611, ..., 0.48064323, 0.49661488,\n",
       "        0.52323794],\n",
       "       [0.44327065, 0.4698937 , 0.49650586, ..., 0.46456255, 0.53908967,\n",
       "        0.57635323],\n",
       "       [0.21780322, 0.29766149, 0.44670482, ..., 0.51059144, 0.5584955 ,\n",
       "        0.57446716],\n",
       "       ...,\n",
       "       [0.42896702, 0.42364677, 0.42364677, ..., 0.48220223, 0.47687108,\n",
       "        0.46623058],\n",
       "       [0.33713818, 0.34778959, 0.4010139 , ..., 0.48619242, 0.50216408,\n",
       "        0.52877623],\n",
       "       [0.37273371, 0.40467702, 0.45259199, ..., 0.60696648, 0.61228673,\n",
       "        0.59631507]])"
      ]
     },
     "execution_count": 7,
     "metadata": {},
     "output_type": "execute_result"
    }
   ],
   "source": [
    "eeg"
   ]
  },
  {
   "cell_type": "code",
   "execution_count": 8,
   "metadata": {},
   "outputs": [
    {
     "data": {
      "text/plain": [
       "{\n",
       "    \"subject_id\": \"co2a0000364\",\n",
       "    \"subject_class\": 1,\n",
       "    \"trial_number\": 0,\n",
       "    \"trial_type\": 0,\n",
       "    \"eeg\": \"[[0.33692014 0.34224039 0.40611611 ... 0.48064323 0.49661488 0.52323794]\\n [0.44327065 0.4698937  0.49650586 ... 0.46456255 0.53908967 0.57635323]\\n [0.21780322 0.29766149 0.44670482 ... 0.51059144 0.5584955  0.57446716]\\n ...\\n [0.42896702 0.42364677 0.42364677 ... 0.48220223 0.47687108 0.46623058]\\n [0.33713818 0.34778959 0.4010139  ... 0.48619242 0.50216408 0.52877623]\\n [0.37273371 0.40467702 0.45259199 ... 0.60696648 0.61228673 0.59631507]]\"\n",
       "}"
      ]
     },
     "execution_count": 8,
     "metadata": {},
     "output_type": "execute_result"
    }
   ],
   "source": [
    "Trial(subject_id, subject_class, trial_number, trial_type, eeg)"
   ]
  },
  {
   "cell_type": "code",
   "execution_count": 9,
   "metadata": {},
   "outputs": [],
   "source": [
    "errors = 0\n",
    "zeros = 0\n",
    "\n",
    "def read_trials(eeg_file: str) -> List[Trial]:\n",
    "    global errors, zeros\n",
    "    \n",
    "    with open(eeg_file, 'r') as f:\n",
    "        file_content = f.read()\n",
    "        \n",
    "        subject_id = file_content[2:13]\n",
    "        if 'a' == subject_id[3]:\n",
    "            subject_class = 1\n",
    "        elif 'c' == subject_id[3]:\n",
    "            subject_class = 0\n",
    "        else:\n",
    "            raise ValueError('Invalid subject class: ' + subject_id)\n",
    "        \n",
    "        trials = []\n",
    "        trials_str = list(filter(lambda string: len(string) > 0, re.split(r'^# co\\w{9}.rd', file_content, flags=re.MULTILINE)))\n",
    "\n",
    "        \n",
    "        for trial in trials_str:\n",
    "            try:\n",
    "                lines = list(filter(lambda line: len(line) > 0, map(lambda line: line.strip(), trial.split('\\n'))))\n",
    "                trial_type_str, trial_number = tuple(lines[2].split(', trial'))\n",
    "                trial_number = int(trial_number)\n",
    "\n",
    "                if 'err' in trial_type_str:\n",
    "                    print('Skipping trial |{}| from file |{}| due to error type'.format(trial_number, eeg_file))\n",
    "                    errors = errors + 1\n",
    "                    continue\n",
    "                elif trial_type_str.startswith('# S1 obj'):\n",
    "                    trial_type = 0\n",
    "                elif trial_type_str.startswith('# S2 match'):\n",
    "                    trial_type = 1\n",
    "                elif trial_type_str.startswith('# S2 nomatch'):\n",
    "                    trial_type = 2\n",
    "                else:\n",
    "                    raise ValueError('Invalid trial_type_str: ' + trial_type_str)\n",
    "\n",
    "                lines = lines[4:]\n",
    "\n",
    "                measurements = [(channel_map[line.split()[1]], int(line.split()[2]), float(line.split()[3])) for line in lines if len(line) > 0 and line[0] != '#']\n",
    "                measurements = np.array(measurements)\n",
    "                eeg = measurements[:, 2].reshape((64,256))\n",
    "                #eeg = np.array([np.mean(eeg_channel.reshape(-1, 4), axis=1) for eeg_channel in eeg[::1]])\n",
    "                eeg = (eeg - np.min(eeg))/np.ptp(eeg)\n",
    "                \n",
    "\n",
    "                if np.count_nonzero(eeg) == 0:\n",
    "                    print('Skipping trial |{}| from file |{}| due to only 0 values'.format(trial_number, eeg_file))\n",
    "                    zeros = zeros + 1\n",
    "                    continue\n",
    "                    \n",
    "                trials.append(Trial(subject_id, subject_class, trial_number, trial_type, eeg))\n",
    "            except:\n",
    "                print(traceback.format_exc())\n",
    "                print('Error in file: |{}|'.format(eeg_file))\n",
    "                print('Error for: |{}|'.format(trial))\n",
    "                print('Error for: |{}|'.format(lines[2]))\n",
    "                raise\n",
    "                \n",
    "            \n",
    "        return trials\n"
   ]
  },
  {
   "cell_type": "code",
   "execution_count": 10,
   "metadata": {},
   "outputs": [
    {
     "name": "stderr",
     "output_type": "stream",
     "text": [
      "  2%|▏         | 2/122 [00:08<07:26,  3.72s/it]"
     ]
    },
    {
     "name": "stdout",
     "output_type": "stream",
     "text": [
      "Skipping trial |89| from file |eeg_full/co2c0000362.txt| due to error type\n"
     ]
    },
    {
     "name": "stderr",
     "output_type": "stream",
     "text": [
      "  4%|▍         | 5/122 [00:21<08:26,  4.32s/it]"
     ]
    },
    {
     "name": "stdout",
     "output_type": "stream",
     "text": [
      "Skipping trial |5| from file |eeg_full/co2c0000348.txt| due to error type\n",
      "Skipping trial |109| from file |eeg_full/co2c0000348.txt| due to error type\n"
     ]
    },
    {
     "name": "stderr",
     "output_type": "stream",
     "text": [
      " 10%|▉         | 12/122 [00:50<07:42,  4.21s/it]"
     ]
    },
    {
     "name": "stdout",
     "output_type": "stream",
     "text": [
      "Skipping trial |31| from file |eeg_full/co2a0000404.txt| due to error type\n"
     ]
    },
    {
     "name": "stderr",
     "output_type": "stream",
     "text": [
      "\r",
      " 11%|█         | 13/122 [00:54<07:43,  4.25s/it]"
     ]
    },
    {
     "name": "stdout",
     "output_type": "stream",
     "text": [
      "Skipping trial |1| from file |eeg_full/co2a0000410.txt| due to error type\n",
      "Skipping trial |33| from file |eeg_full/co2a0000410.txt| due to error type\n",
      "Skipping trial |95| from file |eeg_full/co2a0000410.txt| due to error type\n"
     ]
    },
    {
     "name": "stderr",
     "output_type": "stream",
     "text": [
      " 15%|█▍        | 18/122 [01:16<07:22,  4.26s/it]"
     ]
    },
    {
     "name": "stdout",
     "output_type": "stream",
     "text": [
      "Skipping trial |3| from file |eeg_full/co2a0000439.txt| due to error type\n",
      "Skipping trial |77| from file |eeg_full/co2a0000439.txt| due to error type\n",
      "Skipping trial |99| from file |eeg_full/co2a0000439.txt| due to error type\n"
     ]
    },
    {
     "name": "stderr",
     "output_type": "stream",
     "text": [
      "\r",
      " 16%|█▌        | 19/122 [01:21<07:30,  4.38s/it]"
     ]
    },
    {
     "name": "stdout",
     "output_type": "stream",
     "text": [
      "Skipping trial |71| from file |eeg_full/co2a0000411.txt| due to error type\n"
     ]
    },
    {
     "name": "stderr",
     "output_type": "stream",
     "text": [
      " 17%|█▋        | 21/122 [01:30<07:38,  4.54s/it]"
     ]
    },
    {
     "name": "stdout",
     "output_type": "stream",
     "text": [
      "Skipping trial |13| from file |eeg_full/co2a0000405.txt| due to error type\n",
      "Skipping trial |29| from file |eeg_full/co2a0000405.txt| due to error type\n",
      "Skipping trial |95| from file |eeg_full/co2a0000405.txt| due to error type\n"
     ]
    },
    {
     "name": "stderr",
     "output_type": "stream",
     "text": [
      " 21%|██▏       | 26/122 [01:49<06:07,  3.83s/it]"
     ]
    },
    {
     "name": "stdout",
     "output_type": "stream",
     "text": [
      "Skipping trial |95| from file |eeg_full/co2a0000406.txt| due to error type\n"
     ]
    },
    {
     "name": "stderr",
     "output_type": "stream",
     "text": [
      "\r",
      " 22%|██▏       | 27/122 [01:52<05:57,  3.76s/it]"
     ]
    },
    {
     "name": "stdout",
     "output_type": "stream",
     "text": [
      "Skipping trial |113| from file |eeg_full/co2a0000406.txt| due to error type\n",
      "Skipping trial |95| from file |eeg_full/co2a0000412.txt| due to error type\n"
     ]
    },
    {
     "name": "stderr",
     "output_type": "stream",
     "text": [
      "\r",
      " 23%|██▎       | 28/122 [01:57<06:05,  3.88s/it]"
     ]
    },
    {
     "name": "stdout",
     "output_type": "stream",
     "text": [
      "Skipping trial |3| from file |eeg_full/co2a0000416.txt| due to error type\n",
      "Skipping trial |63| from file |eeg_full/co2a0000416.txt| due to error type\n"
     ]
    },
    {
     "name": "stderr",
     "output_type": "stream",
     "text": [
      "\r",
      " 24%|██▍       | 29/122 [02:01<05:59,  3.87s/it]"
     ]
    },
    {
     "name": "stdout",
     "output_type": "stream",
     "text": [
      "Skipping trial |7| from file |eeg_full/co2a0000370.txt| due to error type\n",
      "Skipping trial |17| from file |eeg_full/co2a0000370.txt| due to error type\n"
     ]
    },
    {
     "name": "stderr",
     "output_type": "stream",
     "text": [
      "\r",
      " 25%|██▍       | 30/122 [02:06<06:45,  4.41s/it]"
     ]
    },
    {
     "name": "stdout",
     "output_type": "stream",
     "text": [
      "Skipping trial |11| from file |eeg_full/co2a0000364.txt| due to error type\n"
     ]
    },
    {
     "name": "stderr",
     "output_type": "stream",
     "text": [
      "\r",
      " 25%|██▌       | 31/122 [02:10<06:27,  4.26s/it]"
     ]
    },
    {
     "name": "stdout",
     "output_type": "stream",
     "text": [
      "Skipping trial |27| from file |eeg_full/co2a0000402.txt| due to error type\n"
     ]
    },
    {
     "name": "stderr",
     "output_type": "stream",
     "text": [
      " 28%|██▊       | 34/122 [02:25<06:57,  4.75s/it]"
     ]
    },
    {
     "name": "stdout",
     "output_type": "stream",
     "text": [
      "Skipping trial |3| from file |eeg_full/co2a0000365.txt| due to error type\n",
      "Skipping trial |75| from file |eeg_full/co2a0000365.txt| due to error type\n",
      "Skipping trial |97| from file |eeg_full/co2a0000365.txt| due to error type\n"
     ]
    },
    {
     "name": "stderr",
     "output_type": "stream",
     "text": [
      "\r",
      " 29%|██▊       | 35/122 [02:29<06:41,  4.62s/it]"
     ]
    },
    {
     "name": "stdout",
     "output_type": "stream",
     "text": [
      "Skipping trial |41| from file |eeg_full/co2a0000403.txt| due to error type\n",
      "Skipping trial |51| from file |eeg_full/co2a0000403.txt| due to error type\n",
      "Skipping trial |61| from file |eeg_full/co2a0000403.txt| due to error type\n",
      "Skipping trial |97| from file |eeg_full/co2a0000403.txt| due to error type\n",
      "Skipping trial |105| from file |eeg_full/co2a0000403.txt| due to error type\n"
     ]
    },
    {
     "name": "stderr",
     "output_type": "stream",
     "text": [
      "\r",
      " 30%|██▉       | 36/122 [02:33<06:24,  4.48s/it]"
     ]
    },
    {
     "name": "stdout",
     "output_type": "stream",
     "text": [
      "Skipping trial |117| from file |eeg_full/co2a0000403.txt| due to error type\n",
      "Skipping trial |51| from file |eeg_full/co2a0000417.txt| due to error type\n"
     ]
    },
    {
     "name": "stderr",
     "output_type": "stream",
     "text": [
      " 37%|███▋      | 45/122 [03:11<05:47,  4.51s/it]"
     ]
    },
    {
     "name": "stdout",
     "output_type": "stream",
     "text": [
      "Skipping trial |27| from file |eeg_full/co2a0000414.txt| due to error type\n"
     ]
    },
    {
     "name": "stderr",
     "output_type": "stream",
     "text": [
      " 39%|███▊      | 47/122 [03:19<05:26,  4.36s/it]"
     ]
    },
    {
     "name": "stdout",
     "output_type": "stream",
     "text": [
      "Skipping trial |95| from file |eeg_full/co2a0000428.txt| due to error type\n"
     ]
    },
    {
     "name": "stderr",
     "output_type": "stream",
     "text": [
      " 41%|████      | 50/122 [03:29<04:07,  3.43s/it]"
     ]
    },
    {
     "name": "stdout",
     "output_type": "stream",
     "text": [
      "Skipping trial |115| from file |eeg_full/co2a0000425.txt| due to error type\n",
      "Skipping trial |1| from file |eeg_full/co2a0000419.txt| due to error type\n",
      "Skipping trial |9| from file |eeg_full/co2a0000419.txt| due to error type\n"
     ]
    },
    {
     "name": "stderr",
     "output_type": "stream",
     "text": [
      " 43%|████▎     | 53/122 [03:45<05:19,  4.63s/it]"
     ]
    },
    {
     "name": "stdout",
     "output_type": "stream",
     "text": [
      "Skipping trial |119| from file |eeg_full/co2a0000394.txt| due to error type\n"
     ]
    },
    {
     "name": "stderr",
     "output_type": "stream",
     "text": [
      "\r",
      " 44%|████▍     | 54/122 [03:50<05:26,  4.80s/it]"
     ]
    },
    {
     "name": "stdout",
     "output_type": "stream",
     "text": [
      "Skipping trial |35| from file |eeg_full/co2a0000381.txt| due to error type\n",
      "Skipping trial |61| from file |eeg_full/co2a0000381.txt| due to error type\n",
      "Skipping trial |63| from file |eeg_full/co2a0000381.txt| due to error type\n",
      "Skipping trial |71| from file |eeg_full/co2a0000381.txt| due to error type\n",
      "Skipping trial |91| from file |eeg_full/co2a0000381.txt| due to error type\n"
     ]
    },
    {
     "name": "stderr",
     "output_type": "stream",
     "text": [
      "\r",
      " 45%|████▌     | 55/122 [03:55<05:17,  4.75s/it]"
     ]
    },
    {
     "name": "stdout",
     "output_type": "stream",
     "text": [
      "Skipping trial |37| from file |eeg_full/co2a0000418.txt| due to error type\n",
      "Skipping trial |41| from file |eeg_full/co2a0000418.txt| due to error type\n",
      "Skipping trial |71| from file |eeg_full/co2a0000418.txt| due to error type\n",
      "Skipping trial |93| from file |eeg_full/co2a0000418.txt| due to error type\n"
     ]
    },
    {
     "name": "stderr",
     "output_type": "stream",
     "text": [
      " 48%|████▊     | 58/122 [04:09<05:03,  4.75s/it]"
     ]
    },
    {
     "name": "stdout",
     "output_type": "stream",
     "text": [
      "Skipping trial |119| from file |eeg_full/co2a0000424.txt| due to error type\n"
     ]
    },
    {
     "name": "stderr",
     "output_type": "stream",
     "text": [
      "\r",
      " 48%|████▊     | 59/122 [04:14<05:02,  4.80s/it]"
     ]
    },
    {
     "name": "stdout",
     "output_type": "stream",
     "text": [
      "Skipping trial |17| from file |eeg_full/co2a0000432.txt| due to error type\n",
      "Skipping trial |27| from file |eeg_full/co2a0000432.txt| due to error type\n",
      "Skipping trial |47| from file |eeg_full/co2a0000432.txt| due to error type\n",
      "Skipping trial |63| from file |eeg_full/co2a0000432.txt| due to error type\n"
     ]
    },
    {
     "name": "stderr",
     "output_type": "stream",
     "text": [
      "\r",
      " 49%|████▉     | 60/122 [04:19<04:56,  4.78s/it]"
     ]
    },
    {
     "name": "stdout",
     "output_type": "stream",
     "text": [
      "Skipping trial |19| from file |eeg_full/co2a0000426.txt| due to error type\n",
      "Skipping trial |41| from file |eeg_full/co2a0000426.txt| due to error type\n",
      "Skipping trial |109| from file |eeg_full/co2a0000426.txt| due to error type\n"
     ]
    },
    {
     "name": "stderr",
     "output_type": "stream",
     "text": [
      "\r",
      " 50%|█████     | 61/122 [04:22<04:17,  4.23s/it]"
     ]
    },
    {
     "name": "stdout",
     "output_type": "stream",
     "text": [
      "Skipping trial |21| from file |eeg_full/co2a0000368.txt| due to error type\n"
     ]
    },
    {
     "name": "stderr",
     "output_type": "stream",
     "text": [
      " 54%|█████▍    | 66/122 [04:40<03:30,  3.75s/it]"
     ]
    },
    {
     "name": "stdout",
     "output_type": "stream",
     "text": [
      "Skipping trial |25| from file |eeg_full/co2a0000382.txt| due to error type\n",
      "Skipping trial |39| from file |eeg_full/co2a0000382.txt| due to error type\n"
     ]
    },
    {
     "name": "stderr",
     "output_type": "stream",
     "text": [
      " 56%|█████▌    | 68/122 [04:49<03:38,  4.05s/it]"
     ]
    },
    {
     "name": "stdout",
     "output_type": "stream",
     "text": [
      "Skipping trial |5| from file |eeg_full/co2a0000369.txt| due to error type\n",
      "Skipping trial |7| from file |eeg_full/co2a0000369.txt| due to error type\n",
      "Skipping trial |49| from file |eeg_full/co2a0000369.txt| due to error type\n",
      "Skipping trial |69| from file |eeg_full/co2a0000369.txt| due to error type\n",
      "Skipping trial |79| from file |eeg_full/co2a0000369.txt| due to error type\n"
     ]
    },
    {
     "name": "stderr",
     "output_type": "stream",
     "text": [
      " 57%|█████▋    | 70/122 [04:59<03:53,  4.48s/it]"
     ]
    },
    {
     "name": "stdout",
     "output_type": "stream",
     "text": [
      "Skipping trial |3| from file |eeg_full/co2a0000433.txt| due to error type\n",
      "Skipping trial |11| from file |eeg_full/co2a0000433.txt| due to error type\n",
      "Skipping trial |33| from file |eeg_full/co2a0000433.txt| due to error type\n",
      "Skipping trial |41| from file |eeg_full/co2a0000433.txt| due to error type\n",
      "Skipping trial |59| from file |eeg_full/co2a0000433.txt| due to error type\n"
     ]
    },
    {
     "name": "stderr",
     "output_type": "stream",
     "text": [
      "\r",
      " 58%|█████▊    | 71/122 [05:02<03:34,  4.20s/it]"
     ]
    },
    {
     "name": "stdout",
     "output_type": "stream",
     "text": [
      "Skipping trial |21| from file |eeg_full/co2a0000379.txt| due to error type\n"
     ]
    },
    {
     "name": "stderr",
     "output_type": "stream",
     "text": [
      " 61%|██████▏   | 75/122 [05:21<03:25,  4.37s/it]"
     ]
    },
    {
     "name": "stdout",
     "output_type": "stream",
     "text": [
      "Skipping trial |77| from file |eeg_full/co2a0000386.txt| due to error type\n"
     ]
    },
    {
     "name": "stderr",
     "output_type": "stream",
     "text": [
      "\r",
      " 62%|██████▏   | 76/122 [05:24<03:04,  4.02s/it]"
     ]
    },
    {
     "name": "stdout",
     "output_type": "stream",
     "text": [
      "Skipping trial |113| from file |eeg_full/co2a0000386.txt| due to error type\n"
     ]
    },
    {
     "name": "stderr",
     "output_type": "stream",
     "text": [
      " 64%|██████▍   | 78/122 [05:33<03:09,  4.32s/it]"
     ]
    },
    {
     "name": "stdout",
     "output_type": "stream",
     "text": [
      "Skipping trial |17| from file |eeg_full/co2a0000387.txt| due to error type\n"
     ]
    },
    {
     "name": "stderr",
     "output_type": "stream",
     "text": [
      " 67%|██████▋   | 82/122 [05:50<03:00,  4.51s/it]"
     ]
    },
    {
     "name": "stdout",
     "output_type": "stream",
     "text": [
      "Skipping trial |75| from file |eeg_full/co2a0000434.txt| due to error type\n"
     ]
    },
    {
     "name": "stderr",
     "output_type": "stream",
     "text": [
      "\r",
      " 68%|██████▊   | 83/122 [05:53<02:43,  4.20s/it]"
     ]
    },
    {
     "name": "stdout",
     "output_type": "stream",
     "text": [
      "Skipping trial |3| from file |eeg_full/co2a0000385.txt| due to error type\n",
      "Skipping trial |9| from file |eeg_full/co2a0000385.txt| due to error type\n",
      "Skipping trial |97| from file |eeg_full/co2a0000385.txt| due to error type\n"
     ]
    },
    {
     "name": "stderr",
     "output_type": "stream",
     "text": [
      " 70%|██████▉   | 85/122 [06:02<02:40,  4.33s/it]"
     ]
    },
    {
     "name": "stdout",
     "output_type": "stream",
     "text": [
      "Skipping trial |25| from file |eeg_full/co2a0000384.txt| due to error type\n"
     ]
    },
    {
     "name": "stderr",
     "output_type": "stream",
     "text": [
      "\r",
      " 70%|███████   | 86/122 [06:08<02:49,  4.72s/it]"
     ]
    },
    {
     "name": "stdout",
     "output_type": "stream",
     "text": [
      "Skipping trial |95| from file |eeg_full/co2a0000435.txt| due to error type\n"
     ]
    },
    {
     "name": "stderr",
     "output_type": "stream",
     "text": [
      " 72%|███████▏  | 88/122 [06:18<02:49,  4.97s/it]"
     ]
    },
    {
     "name": "stdout",
     "output_type": "stream",
     "text": [
      "Skipping trial |61| from file |eeg_full/co2a0000409.txt| due to error type\n"
     ]
    },
    {
     "name": "stderr",
     "output_type": "stream",
     "text": [
      " 74%|███████▍  | 90/122 [06:28<02:43,  5.12s/it]"
     ]
    },
    {
     "name": "stdout",
     "output_type": "stream",
     "text": [
      "Skipping trial |119| from file |eeg_full/co2c0000381.txt| due to error type\n"
     ]
    },
    {
     "name": "stderr",
     "output_type": "stream",
     "text": [
      "\r",
      " 75%|███████▍  | 91/122 [06:33<02:34,  4.97s/it]"
     ]
    },
    {
     "name": "stdout",
     "output_type": "stream",
     "text": [
      "Skipping trial |17| from file |eeg_full/co2c0000342.txt| due to error type\n"
     ]
    },
    {
     "name": "stderr",
     "output_type": "stream",
     "text": [
      "\r",
      " 75%|███████▌  | 92/122 [06:38<02:30,  5.01s/it]"
     ]
    },
    {
     "name": "stdout",
     "output_type": "stream",
     "text": [
      "Skipping trial |93| from file |eeg_full/co2c0000356.txt| due to error type\n"
     ]
    },
    {
     "name": "stderr",
     "output_type": "stream",
     "text": [
      " 78%|███████▊  | 95/122 [06:51<02:00,  4.45s/it]"
     ]
    },
    {
     "name": "stdout",
     "output_type": "stream",
     "text": [
      "Skipping trial |93| from file |eeg_full/co2a0000447.txt| due to error type\n"
     ]
    },
    {
     "name": "stderr",
     "output_type": "stream",
     "text": [
      " 82%|████████▏ | 100/122 [07:12<01:33,  4.26s/it]"
     ]
    },
    {
     "name": "stdout",
     "output_type": "stream",
     "text": [
      "Skipping trial |17| from file |eeg_full/co2c0000341.txt| due to error type\n",
      "Skipping trial |37| from file |eeg_full/co2c0000341.txt| due to error type\n"
     ]
    },
    {
     "name": "stderr",
     "output_type": "stream",
     "text": [
      "\r",
      " 83%|████████▎ | 101/122 [07:16<01:30,  4.30s/it]"
     ]
    },
    {
     "name": "stdout",
     "output_type": "stream",
     "text": [
      "Skipping trial |119| from file |eeg_full/co2c0000341.txt| due to error type\n"
     ]
    },
    {
     "name": "stderr",
     "output_type": "stream",
     "text": [
      "\r",
      " 84%|████████▎ | 102/122 [07:20<01:23,  4.16s/it]"
     ]
    },
    {
     "name": "stdout",
     "output_type": "stream",
     "text": [
      "Skipping trial |41| from file |eeg_full/co2c0000354.txt| due to error type\n"
     ]
    },
    {
     "name": "stderr",
     "output_type": "stream",
     "text": [
      "\r",
      " 84%|████████▍ | 103/122 [07:24<01:19,  4.16s/it]"
     ]
    },
    {
     "name": "stdout",
     "output_type": "stream",
     "text": [
      "Skipping trial |97| from file |eeg_full/co2c0000383.txt| due to error type\n"
     ]
    },
    {
     "name": "stderr",
     "output_type": "stream",
     "text": [
      "\r",
      " 85%|████████▌ | 104/122 [07:29<01:17,  4.32s/it]"
     ]
    },
    {
     "name": "stdout",
     "output_type": "stream",
     "text": [
      "Skipping trial |103| from file |eeg_full/co2c0000397.txt| due to error type\n"
     ]
    },
    {
     "name": "stderr",
     "output_type": "stream",
     "text": [
      " 91%|█████████ | 111/122 [07:58<00:45,  4.18s/it]"
     ]
    },
    {
     "name": "stdout",
     "output_type": "stream",
     "text": [
      "Skipping trial |55| from file |eeg_full/co2c0000345.txt| due to error type\n"
     ]
    },
    {
     "name": "stderr",
     "output_type": "stream",
     "text": [
      " 93%|█████████▎| 113/122 [08:08<00:40,  4.47s/it]"
     ]
    },
    {
     "name": "stdout",
     "output_type": "stream",
     "text": [
      "Skipping trial |9| from file |eeg_full/co2c0000379.txt| due to error type\n",
      "Skipping trial |113| from file |eeg_full/co2c0000379.txt| due to error type\n"
     ]
    },
    {
     "name": "stderr",
     "output_type": "stream",
     "text": [
      " 96%|█████████▌| 117/122 [08:25<00:21,  4.30s/it]"
     ]
    },
    {
     "name": "stdout",
     "output_type": "stream",
     "text": [
      "Skipping trial |51| from file |eeg_full/co2c0000390.txt| due to error type\n"
     ]
    },
    {
     "name": "stderr",
     "output_type": "stream",
     "text": [
      " 98%|█████████▊| 120/122 [08:35<00:07,  3.75s/it]"
     ]
    },
    {
     "name": "stdout",
     "output_type": "stream",
     "text": [
      "Skipping trial |93| from file |eeg_full/co2c0000346.txt| due to error type\n"
     ]
    },
    {
     "name": "stderr",
     "output_type": "stream",
     "text": [
      "100%|██████████| 122/122 [08:43<00:00,  3.64s/it]"
     ]
    },
    {
     "name": "stdout",
     "output_type": "stream",
     "text": [
      "Good trials: 10962, Error trials: 95, Zeros trials: 0\n"
     ]
    },
    {
     "name": "stderr",
     "output_type": "stream",
     "text": [
      "\n"
     ]
    }
   ],
   "source": [
    "all_trials = []\n",
    "\n",
    "for file in tqdm(os.listdir('eeg_full')):\n",
    "    all_trials = all_trials + read_trials('eeg_full/' + file)\n",
    "    \n",
    "print('Good trials: {}, Error trials: {}, Zeros trials: {}'.format(len(all_trials), errors, zeros))"
   ]
  },
  {
   "cell_type": "code",
   "execution_count": 11,
   "metadata": {},
   "outputs": [
    {
     "data": {
      "text/plain": [
       "[]"
      ]
     },
     "execution_count": 11,
     "metadata": {},
     "output_type": "execute_result"
    }
   ],
   "source": [
    "nans = [trial for trial in all_trials if np.isnan(trial.eeg).any()]\n",
    "\n",
    "nans"
   ]
  },
  {
   "cell_type": "code",
   "execution_count": 12,
   "metadata": {},
   "outputs": [],
   "source": [
    "df = pd.DataFrame.from_records([trial.to_dict() for trial in all_trials])\n",
    "df = df.sample(frac=1).reset_index(drop=True)"
   ]
  },
  {
   "cell_type": "code",
   "execution_count": 13,
   "metadata": {},
   "outputs": [
    {
     "data": {
      "text/plain": [
       "1439135312"
      ]
     },
     "execution_count": 13,
     "metadata": {},
     "output_type": "execute_result"
    }
   ],
   "source": [
    "sys.getsizeof(df)"
   ]
  },
  {
   "cell_type": "code",
   "execution_count": 14,
   "metadata": {},
   "outputs": [
    {
     "data": {
      "text/html": [
       "<div>\n",
       "<style scoped>\n",
       "    .dataframe tbody tr th:only-of-type {\n",
       "        vertical-align: middle;\n",
       "    }\n",
       "\n",
       "    .dataframe tbody tr th {\n",
       "        vertical-align: top;\n",
       "    }\n",
       "\n",
       "    .dataframe thead th {\n",
       "        text-align: right;\n",
       "    }\n",
       "</style>\n",
       "<table border=\"1\" class=\"dataframe\">\n",
       "  <thead>\n",
       "    <tr style=\"text-align: right;\">\n",
       "      <th></th>\n",
       "      <th>eeg</th>\n",
       "      <th>subject_class</th>\n",
       "      <th>subject_id</th>\n",
       "      <th>trial_number</th>\n",
       "      <th>trial_type</th>\n",
       "    </tr>\n",
       "  </thead>\n",
       "  <tbody>\n",
       "    <tr>\n",
       "      <th>0</th>\n",
       "      <td>[[0.4843077242309488, 0.4906365098303678, 0.50...</td>\n",
       "      <td>0</td>\n",
       "      <td>co2c0000381</td>\n",
       "      <td>14</td>\n",
       "      <td>0</td>\n",
       "    </tr>\n",
       "    <tr>\n",
       "      <th>1</th>\n",
       "      <td>[[0.33087005443542256, 0.3605662500380136, 0.3...</td>\n",
       "      <td>1</td>\n",
       "      <td>co2a0000381</td>\n",
       "      <td>73</td>\n",
       "      <td>2</td>\n",
       "    </tr>\n",
       "    <tr>\n",
       "      <th>2</th>\n",
       "      <td>[[0.3334818174455333, 0.4026889122863853, 0.47...</td>\n",
       "      <td>1</td>\n",
       "      <td>co2a0000404</td>\n",
       "      <td>117</td>\n",
       "      <td>1</td>\n",
       "    </tr>\n",
       "    <tr>\n",
       "      <th>3</th>\n",
       "      <td>[[0.15667361215645575, 0.06769871891365141, 0....</td>\n",
       "      <td>1</td>\n",
       "      <td>co2a0000371</td>\n",
       "      <td>8</td>\n",
       "      <td>0</td>\n",
       "    </tr>\n",
       "    <tr>\n",
       "      <th>4</th>\n",
       "      <td>[[0.12987552487261098, 0.11090689021383421, 0....</td>\n",
       "      <td>1</td>\n",
       "      <td>co3a0000456</td>\n",
       "      <td>94</td>\n",
       "      <td>0</td>\n",
       "    </tr>\n",
       "  </tbody>\n",
       "</table>\n",
       "</div>"
      ],
      "text/plain": [
       "                                                 eeg  subject_class  \\\n",
       "0  [[0.4843077242309488, 0.4906365098303678, 0.50...              0   \n",
       "1  [[0.33087005443542256, 0.3605662500380136, 0.3...              1   \n",
       "2  [[0.3334818174455333, 0.4026889122863853, 0.47...              1   \n",
       "3  [[0.15667361215645575, 0.06769871891365141, 0....              1   \n",
       "4  [[0.12987552487261098, 0.11090689021383421, 0....              1   \n",
       "\n",
       "    subject_id  trial_number  trial_type  \n",
       "0  co2c0000381            14           0  \n",
       "1  co2a0000381            73           2  \n",
       "2  co2a0000404           117           1  \n",
       "3  co2a0000371             8           0  \n",
       "4  co3a0000456            94           0  "
      ]
     },
     "execution_count": 14,
     "metadata": {},
     "output_type": "execute_result"
    }
   ],
   "source": [
    "df.head()"
   ]
  },
  {
   "cell_type": "code",
   "execution_count": 15,
   "metadata": {},
   "outputs": [
    {
     "data": {
      "text/html": [
       "<div>\n",
       "<style scoped>\n",
       "    .dataframe tbody tr th:only-of-type {\n",
       "        vertical-align: middle;\n",
       "    }\n",
       "\n",
       "    .dataframe tbody tr th {\n",
       "        vertical-align: top;\n",
       "    }\n",
       "\n",
       "    .dataframe thead th {\n",
       "        text-align: right;\n",
       "    }\n",
       "</style>\n",
       "<table border=\"1\" class=\"dataframe\">\n",
       "  <thead>\n",
       "    <tr style=\"text-align: right;\">\n",
       "      <th></th>\n",
       "      <th>subject_class</th>\n",
       "      <th>trial_number</th>\n",
       "      <th>trial_type</th>\n",
       "    </tr>\n",
       "  </thead>\n",
       "  <tbody>\n",
       "    <tr>\n",
       "      <th>count</th>\n",
       "      <td>10962.000000</td>\n",
       "      <td>10962.000000</td>\n",
       "      <td>10962.000000</td>\n",
       "    </tr>\n",
       "    <tr>\n",
       "      <th>mean</th>\n",
       "      <td>0.634465</td>\n",
       "      <td>60.611294</td>\n",
       "      <td>0.749225</td>\n",
       "    </tr>\n",
       "    <tr>\n",
       "      <th>std</th>\n",
       "      <td>0.481602</td>\n",
       "      <td>34.155754</td>\n",
       "      <td>0.828051</td>\n",
       "    </tr>\n",
       "    <tr>\n",
       "      <th>min</th>\n",
       "      <td>0.000000</td>\n",
       "      <td>0.000000</td>\n",
       "      <td>0.000000</td>\n",
       "    </tr>\n",
       "    <tr>\n",
       "      <th>25%</th>\n",
       "      <td>0.000000</td>\n",
       "      <td>32.000000</td>\n",
       "      <td>0.000000</td>\n",
       "    </tr>\n",
       "    <tr>\n",
       "      <th>50%</th>\n",
       "      <td>1.000000</td>\n",
       "      <td>61.000000</td>\n",
       "      <td>1.000000</td>\n",
       "    </tr>\n",
       "    <tr>\n",
       "      <th>75%</th>\n",
       "      <td>1.000000</td>\n",
       "      <td>90.000000</td>\n",
       "      <td>1.000000</td>\n",
       "    </tr>\n",
       "    <tr>\n",
       "      <th>max</th>\n",
       "      <td>1.000000</td>\n",
       "      <td>119.000000</td>\n",
       "      <td>2.000000</td>\n",
       "    </tr>\n",
       "  </tbody>\n",
       "</table>\n",
       "</div>"
      ],
      "text/plain": [
       "       subject_class  trial_number    trial_type\n",
       "count   10962.000000  10962.000000  10962.000000\n",
       "mean        0.634465     60.611294      0.749225\n",
       "std         0.481602     34.155754      0.828051\n",
       "min         0.000000      0.000000      0.000000\n",
       "25%         0.000000     32.000000      0.000000\n",
       "50%         1.000000     61.000000      1.000000\n",
       "75%         1.000000     90.000000      1.000000\n",
       "max         1.000000    119.000000      2.000000"
      ]
     },
     "execution_count": 15,
     "metadata": {},
     "output_type": "execute_result"
    }
   ],
   "source": [
    "df.describe()"
   ]
  },
  {
   "cell_type": "code",
   "execution_count": 16,
   "metadata": {},
   "outputs": [
    {
     "name": "stdout",
     "output_type": "stream",
     "text": [
      "6955\n",
      "4007\n"
     ]
    }
   ],
   "source": [
    "print(len(df.loc[df['subject_class'] == 1]))\n",
    "print(len(df.loc[df['subject_class'] == 0]))\n"
   ]
  },
  {
   "cell_type": "code",
   "execution_count": 17,
   "metadata": {},
   "outputs": [],
   "source": [
    "X = df['eeg'].values\n",
    "y = df['subject_class'].values\n",
    "\n",
    "# keras required format\n",
    "X = np.rollaxis(np.dstack(X), -1)\n",
    "X = X.reshape(X.shape[0], 64, 256, 1)\n",
    "y = keras.utils.to_categorical(y, 2)"
   ]
  },
  {
   "cell_type": "code",
   "execution_count": 18,
   "metadata": {},
   "outputs": [
    {
     "data": {
      "text/plain": [
       "(10962, 64, 256, 1)"
      ]
     },
     "execution_count": 18,
     "metadata": {},
     "output_type": "execute_result"
    }
   ],
   "source": [
    "X.shape"
   ]
  },
  {
   "cell_type": "code",
   "execution_count": 19,
   "metadata": {},
   "outputs": [],
   "source": [
    "X_train, X_test, y_train, y_test = train_test_split(X, y, test_size=0.1)"
   ]
  },
  {
   "cell_type": "code",
   "execution_count": 20,
   "metadata": {},
   "outputs": [],
   "source": [
    "def nll(y_true, y_pred):\n",
    "    \"\"\" Negative log likelihood (Bernoulli). \"\"\"\n",
    "\n",
    "    # keras.losses.binary_crossentropy gives the mean\n",
    "    # over the last axis. we require the sum\n",
    "    return K.sum(K.binary_crossentropy(y_true, y_pred), axis=-1)\n",
    "\n",
    "\n",
    "def safe_log(x, eps=1e-6):\n",
    "    \"\"\" Prevents :math:`log(0)` by using :math:`log(max(x, eps))`.\"\"\"\n",
    "    return keras.backend.log(keras.backend.clip(x, eps, 100000000))\n"
   ]
  },
  {
   "cell_type": "code",
   "execution_count": 21,
   "metadata": {},
   "outputs": [
    {
     "name": "stdout",
     "output_type": "stream",
     "text": [
      "WARNING:tensorflow:From /usr/local/lib/python3.7/site-packages/tensorflow/python/framework/op_def_library.py:263: colocate_with (from tensorflow.python.framework.ops) is deprecated and will be removed in a future version.\n",
      "Instructions for updating:\n",
      "Colocations handled automatically by placer.\n",
      "WARNING:tensorflow:From /usr/local/lib/python3.7/site-packages/keras/backend/tensorflow_backend.py:3445: calling dropout (from tensorflow.python.ops.nn_ops) with keep_prob is deprecated and will be removed in a future version.\n",
      "Instructions for updating:\n",
      "Please use `rate` instead of `keep_prob`. Rate should be set to `rate = 1 - keep_prob`.\n"
     ]
    }
   ],
   "source": [
    "\"\"\"\n",
    "Sequential(\n",
    "  (dimshuffle): Expression(expression=_transpose_time_to_spat)\n",
    "  (conv_time): Conv2d(1, 40, kernel_size=(25, 1), stride=(1, 1))\n",
    "  (conv_spat): Conv2d(40, 40, kernel_size=(1, 64), stride=(1, 1), bias=False)\n",
    "  (bnorm): BatchNorm2d(40, eps=1e-05, momentum=0.1, affine=True, track_running_stats=True)\n",
    "  (conv_nonlin): Expression(expression=square)\n",
    "  (pool): AvgPool2d(kernel_size=(75, 1), stride=(1, 1), padding=0)\n",
    "  (pool_nonlin): Expression(expression=safe_log)\n",
    "  (drop): Dropout(p=0.5)\n",
    "  (conv_classifier): Conv2d(40, 2, kernel_size=(30, 1), stride=(1, 1), dilation=(15, 1))\n",
    "  (softmax): LogSoftmax()\n",
    "  (squeeze): Expression(expression=_squeeze_final_output)\n",
    ")\n",
    "\"\"\"\n",
    "\n",
    "input_shape = (64, 256, 1)\n",
    "num_classes = 2\n",
    "batch_size=128\n",
    "epochs=1\n",
    "\n",
    "model = Sequential()\n",
    "model.add(Conv2D(40, kernel_size=(1, 25),\n",
    "                 input_shape=input_shape))\n",
    "model.add(Conv2D(40, kernel_size=(64, 1)))\n",
    "model.add(BatchNormalization(momentum=0.1))\n",
    "model.add(Lambda(lambda x: x ** 2))\n",
    "model.add(AveragePooling2D(pool_size=(1, 75), strides=(1, 1)))\n",
    "model.add(Lambda(lambda x: safe_log(x)))\n",
    "model.add(Dropout(0.5))\n",
    "model.add(Conv2D(2, kernel_size=(1, 30), dilation_rate=(15, 1)))\n",
    "model.add(Flatten())\n",
    "model.add(Dense(num_classes, activation='softmax'))\n"
   ]
  },
  {
   "cell_type": "code",
   "execution_count": 22,
   "metadata": {},
   "outputs": [
    {
     "name": "stdout",
     "output_type": "stream",
     "text": [
      "_________________________________________________________________\n",
      "Layer (type)                 Output Shape              Param #   \n",
      "=================================================================\n",
      "conv2d_1 (Conv2D)            (None, 64, 232, 40)       1040      \n",
      "_________________________________________________________________\n",
      "conv2d_2 (Conv2D)            (None, 1, 232, 40)        102440    \n",
      "_________________________________________________________________\n",
      "batch_normalization_1 (Batch (None, 1, 232, 40)        160       \n",
      "_________________________________________________________________\n",
      "lambda_1 (Lambda)            (None, 1, 232, 40)        0         \n",
      "_________________________________________________________________\n",
      "average_pooling2d_1 (Average (None, 1, 158, 40)        0         \n",
      "_________________________________________________________________\n",
      "lambda_2 (Lambda)            (None, 1, 158, 40)        0         \n",
      "_________________________________________________________________\n",
      "dropout_1 (Dropout)          (None, 1, 158, 40)        0         \n",
      "_________________________________________________________________\n",
      "conv2d_3 (Conv2D)            (None, 1, 129, 2)         2402      \n",
      "_________________________________________________________________\n",
      "flatten_1 (Flatten)          (None, 258)               0         \n",
      "_________________________________________________________________\n",
      "dense_1 (Dense)              (None, 2)                 518       \n",
      "=================================================================\n",
      "Total params: 106,560\n",
      "Trainable params: 106,480\n",
      "Non-trainable params: 80\n",
      "_________________________________________________________________\n"
     ]
    }
   ],
   "source": [
    "model.compile(loss=keras.losses.categorical_crossentropy,\n",
    "              optimizer=keras.optimizers.Adadelta(),\n",
    "              metrics=['accuracy'])\n",
    "\n",
    "model.summary()"
   ]
  },
  {
   "cell_type": "code",
   "execution_count": 23,
   "metadata": {},
   "outputs": [],
   "source": [
    "class AccuracyHistory(keras.callbacks.Callback):\n",
    "    def on_train_begin(self, logs={}):\n",
    "        self.acc = []\n",
    "\n",
    "    def on_epoch_end(self, batch, logs={}):\n",
    "        self.acc.append(logs.get('val_acc'))\n",
    "        \n",
    "history = AccuracyHistory()\n",
    "\n"
   ]
  },
  {
   "cell_type": "code",
   "execution_count": 24,
   "metadata": {},
   "outputs": [
    {
     "name": "stdout",
     "output_type": "stream",
     "text": [
      "WARNING:tensorflow:From /usr/local/lib/python3.7/site-packages/tensorflow/python/ops/math_ops.py:3066: to_int32 (from tensorflow.python.ops.math_ops) is deprecated and will be removed in a future version.\n",
      "Instructions for updating:\n",
      "Use tf.cast instead.\n",
      "Train on 9865 samples, validate on 1097 samples\n",
      "Epoch 1/1\n",
      "9865/9865 [==============================] - 205s 21ms/step - loss: 5.1645 - acc: 0.5400 - val_loss: 1.0753 - val_acc: 0.5014\n",
      "Test loss: 1.0753340335357373\n",
      "Test accuracy: 0.501367365705391\n"
     ]
    },
    {
     "data": {
      "image/png": "[encoded data removed]",
      "text/plain": [
       "<Figure size 432x288 with 1 Axes>"
      ]
     },
     "metadata": {
      "needs_background": "light"
     },
     "output_type": "display_data"
    }
   ],
   "source": [
    "from keras.callbacks import TensorBoard\n",
    "\n",
    "tensor_board = TensorBoard('./logs/baseline_shallow')\n",
    "\n",
    "\n",
    "\n",
    "model.fit(X_train, y_train,\n",
    "          batch_size=batch_size,\n",
    "          epochs=epochs,\n",
    "          verbose=1,\n",
    "          validation_data=(X_test, y_test),\n",
    "          callbacks=[history, tensor_board])\n",
    "\n",
    "\n",
    "score = model.evaluate(X_test, y_test, verbose=0)\n",
    "print('Test loss:', score[0])\n",
    "print('Test accuracy:', score[1])\n",
    "\n",
    "plt.plot(range(1,len(history.acc) + 1), history.acc)\n",
    "plt.xlabel('Epochs')\n",
    "plt.ylabel('Accuracy')\n",
    "plt.show()"
   ]
  },
  {
   "cell_type": "code",
   "execution_count": 25,
   "metadata": {},
   "outputs": [
    {
     "ename": "ValueError",
     "evalue": "could not convert string to float: 'F:\\\\Tresorit\\\\01 - Startup Screen.mp3'",
     "output_type": "error",
     "traceback": [
      "\u001b[0;31m---------------------------------------------------------------------------\u001b[0m",
      "\u001b[0;31mValueError\u001b[0m                                Traceback (most recent call last)",
      "\u001b[0;32m<ipython-input-25-710b92bd10f7>\u001b[0m in \u001b[0;36m<module>\u001b[0;34m()\u001b[0m\n\u001b[1;32m      1\u001b[0m \u001b[0;32mimport\u001b[0m \u001b[0mIPython\u001b[0m\u001b[0;34m\u001b[0m\u001b[0;34m\u001b[0m\u001b[0m\n\u001b[0;32m----> 2\u001b[0;31m \u001b[0mIPython\u001b[0m\u001b[0;34m.\u001b[0m\u001b[0mdisplay\u001b[0m\u001b[0;34m.\u001b[0m\u001b[0mAudio\u001b[0m\u001b[0;34m(\u001b[0m\u001b[0;34m\"F:\\\\Tresorit\\\\01 - Startup Screen.mp3\"\u001b[0m\u001b[0;34m,\u001b[0m \u001b[0mautoplay\u001b[0m\u001b[0;34m=\u001b[0m\u001b[0;32mTrue\u001b[0m\u001b[0;34m)\u001b[0m\u001b[0;34m\u001b[0m\u001b[0;34m\u001b[0m\u001b[0m\n\u001b[0m",
      "\u001b[0;32m/usr/local/lib/python3.7/site-packages/IPython/lib/display.py\u001b[0m in \u001b[0;36m__init__\u001b[0;34m(self, data, filename, url, embed, rate, autoplay)\u001b[0m\n\u001b[1;32m     98\u001b[0m \u001b[0;34m\u001b[0m\u001b[0m\n\u001b[1;32m     99\u001b[0m         \u001b[0;32mif\u001b[0m \u001b[0mself\u001b[0m\u001b[0;34m.\u001b[0m\u001b[0mdata\u001b[0m \u001b[0;32mis\u001b[0m \u001b[0;32mnot\u001b[0m \u001b[0;32mNone\u001b[0m \u001b[0;32mand\u001b[0m \u001b[0;32mnot\u001b[0m \u001b[0misinstance\u001b[0m\u001b[0;34m(\u001b[0m\u001b[0mself\u001b[0m\u001b[0;34m.\u001b[0m\u001b[0mdata\u001b[0m\u001b[0;34m,\u001b[0m \u001b[0mbytes\u001b[0m\u001b[0;34m)\u001b[0m\u001b[0;34m:\u001b[0m\u001b[0;34m\u001b[0m\u001b[0;34m\u001b[0m\u001b[0m\n\u001b[0;32m--> 100\u001b[0;31m             \u001b[0mself\u001b[0m\u001b[0;34m.\u001b[0m\u001b[0mdata\u001b[0m \u001b[0;34m=\u001b[0m \u001b[0mself\u001b[0m\u001b[0;34m.\u001b[0m\u001b[0m_make_wav\u001b[0m\u001b[0;34m(\u001b[0m\u001b[0mdata\u001b[0m\u001b[0;34m,\u001b[0m\u001b[0mrate\u001b[0m\u001b[0;34m)\u001b[0m\u001b[0;34m\u001b[0m\u001b[0;34m\u001b[0m\u001b[0m\n\u001b[0m\u001b[1;32m    101\u001b[0m \u001b[0;34m\u001b[0m\u001b[0m\n\u001b[1;32m    102\u001b[0m     \u001b[0;32mdef\u001b[0m \u001b[0mreload\u001b[0m\u001b[0;34m(\u001b[0m\u001b[0mself\u001b[0m\u001b[0;34m)\u001b[0m\u001b[0;34m:\u001b[0m\u001b[0;34m\u001b[0m\u001b[0;34m\u001b[0m\u001b[0m\n",
      "\u001b[0;32m/usr/local/lib/python3.7/site-packages/IPython/lib/display.py\u001b[0m in \u001b[0;36m_make_wav\u001b[0;34m(self, data, rate)\u001b[0m\n\u001b[1;32m    122\u001b[0m             \u001b[0;32mimport\u001b[0m \u001b[0mnumpy\u001b[0m \u001b[0;32mas\u001b[0m \u001b[0mnp\u001b[0m\u001b[0;34m\u001b[0m\u001b[0;34m\u001b[0m\u001b[0m\n\u001b[1;32m    123\u001b[0m \u001b[0;34m\u001b[0m\u001b[0m\n\u001b[0;32m--> 124\u001b[0;31m             \u001b[0mdata\u001b[0m \u001b[0;34m=\u001b[0m \u001b[0mnp\u001b[0m\u001b[0;34m.\u001b[0m\u001b[0marray\u001b[0m\u001b[0;34m(\u001b[0m\u001b[0mdata\u001b[0m\u001b[0;34m,\u001b[0m \u001b[0mdtype\u001b[0m\u001b[0;34m=\u001b[0m\u001b[0mfloat\u001b[0m\u001b[0;34m)\u001b[0m\u001b[0;34m\u001b[0m\u001b[0;34m\u001b[0m\u001b[0m\n\u001b[0m\u001b[1;32m    125\u001b[0m             \u001b[0;32mif\u001b[0m \u001b[0mlen\u001b[0m\u001b[0;34m(\u001b[0m\u001b[0mdata\u001b[0m\u001b[0;34m.\u001b[0m\u001b[0mshape\u001b[0m\u001b[0;34m)\u001b[0m \u001b[0;34m==\u001b[0m \u001b[0;36m1\u001b[0m\u001b[0;34m:\u001b[0m\u001b[0;34m\u001b[0m\u001b[0;34m\u001b[0m\u001b[0m\n\u001b[1;32m    126\u001b[0m                 \u001b[0mnchan\u001b[0m \u001b[0;34m=\u001b[0m \u001b[0;36m1\u001b[0m\u001b[0;34m\u001b[0m\u001b[0;34m\u001b[0m\u001b[0m\n",
      "\u001b[0;31mValueError\u001b[0m: could not convert string to float: 'F:\\\\Tresorit\\\\01 - Startup Screen.mp3'"
     ]
    }
   ],
   "source": [
    "import IPython\n",
    "IPython.display.Audio(\"F:\\\\Tresorit\\\\01 - Startup Screen.mp3\", autoplay=True)\n"
   ]
  }
 ],
 "metadata": {
  "kernelspec": {
   "display_name": "Python 3",
   "language": "python",
   "name": "python3"
  },
  "language_info": {
   "codemirror_mode": {
    "name": "ipython",
    "version": 3
   },
   "file_extension": ".py",
   "mimetype": "text/x-python",
   "name": "python",
   "nbconvert_exporter": "python",
   "pygments_lexer": "ipython3",
   "version": "3.7.2"
  }
 },
 "nbformat": 4,
 "nbformat_minor": 2
}
