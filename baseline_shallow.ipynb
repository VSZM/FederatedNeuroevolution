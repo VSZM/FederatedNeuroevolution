{
 "cells": [
  {
   "cell_type": "code",
   "execution_count": null,
   "metadata": {},
   "outputs": [],
   "source": [
    "from common import Trial, safe_log, nll, channel_map, load_df\n",
    "import numpy as np\n",
    "import os\n",
    "import pandas as pd\n",
    "import sys\n",
    "from sklearn.model_selection import train_test_split\n",
    "import keras\n",
    "from keras.layers import Dense, Flatten, BatchNormalization, Dropout, Lambda\n",
    "from keras.layers import Conv2D, AveragePooling2D\n",
    "from keras.models import Sequential\n",
    "import matplotlib.pylab as plt\n",
    "import tensorflow as tf\n",
    "from keras.callbacks import TensorBoard\n",
    "import logging\n",
    "import sys\n",
    "import IPython\n",
    "import pickle\n",
    "\n",
    "\n",
    "logging.basicConfig(format='%(asctime)s | %(levelname)s : %(message)s',\n",
    "                     level=logging.INFO, stream=sys.stdout)\n",
    "log = logging.getLogger()\n",
    "log.setLevel(logging.INFO)\n",
    "\n",
    "\n",
    "config = tf.ConfigProto()\n",
    "config.gpu_options.per_process_gpu_memory_fraction = 0.2\n",
    "config.gpu_options.allow_growth = True\n",
    "keras.backend.tensorflow_backend.set_session(tf.Session(config=config))"
   ]
  },
  {
   "cell_type": "code",
   "execution_count": null,
   "metadata": {},
   "outputs": [],
   "source": [
    "df = load_df()"
   ]
  },
  {
   "cell_type": "code",
   "execution_count": null,
   "metadata": {},
   "outputs": [],
   "source": [
    "sys.getsizeof(df)"
   ]
  },
  {
   "cell_type": "code",
   "execution_count": null,
   "metadata": {},
   "outputs": [],
   "source": [
    "df.head()"
   ]
  },
  {
   "cell_type": "code",
   "execution_count": null,
   "metadata": {},
   "outputs": [],
   "source": [
    "df.describe()"
   ]
  },
  {
   "cell_type": "code",
   "execution_count": null,
   "metadata": {},
   "outputs": [],
   "source": [
    "log.info((len(df.loc[df['subject_class'] == 1])))\n",
    "log.info((len(df.loc[df['subject_class'] == 0])))\n"
   ]
  },
  {
   "cell_type": "code",
   "execution_count": null,
   "metadata": {},
   "outputs": [],
   "source": [
    "X = df['eeg'].values\n",
    "y = df['subject_class'].values\n",
    "\n",
    "# keras required format\n",
    "X = np.rollaxis(np.dstack(X), -1)\n",
    "X = X.reshape(X.shape[0], 64, 256, 1)\n",
    "y = keras.utils.to_categorical(y, 2)"
   ]
  },
  {
   "cell_type": "code",
   "execution_count": null,
   "metadata": {},
   "outputs": [],
   "source": [
    "X.shape"
   ]
  },
  {
   "cell_type": "code",
   "execution_count": null,
   "metadata": {},
   "outputs": [],
   "source": [
    "X_train, X_test, y_train, y_test = train_test_split(X, y, test_size=0.1)"
   ]
  },
  {
   "cell_type": "code",
   "execution_count": null,
   "metadata": {},
   "outputs": [],
   "source": [
    "\"\"\"\n",
    "Sequential(\n",
    "  (dimshuffle): Expression(expression=_transpose_time_to_spat)\n",
    "  (conv_time): Conv2d(1, 40, kernel_size=(25, 1), stride=(1, 1))\n",
    "  (conv_spat): Conv2d(40, 40, kernel_size=(1, 64), stride=(1, 1), bias=False)\n",
    "  (bnorm): BatchNorm2d(40, eps=1e-05, momentum=0.1, affine=True, track_running_stats=True)\n",
    "  (conv_nonlin): Expression(expression=square)\n",
    "  (pool): AvgPool2d(kernel_size=(75, 1), stride=(1, 1), padding=0)\n",
    "  (pool_nonlin): Expression(expression=safe_log)\n",
    "  (drop): Dropout(p=0.5)\n",
    "  (conv_classifier): Conv2d(40, 2, kernel_size=(30, 1), stride=(1, 1), dilation=(15, 1))\n",
    "  (softmax): LogSoftmax()\n",
    "  (squeeze): Expression(expression=_squeeze_final_output)\n",
    ")\n",
    "\"\"\"\n",
    "\n",
    "input_shape = (64, 256, 1)\n",
    "num_classes = 2\n",
    "batch_size=128\n",
    "epochs=150\n",
    "\n",
    "model = Sequential()\n",
    "model.add(Conv2D(40, kernel_size=(1, 25),\n",
    "                 input_shape=input_shape))\n",
    "model.add(BatchNormalization(momentum=0.1))\n",
    "model.add(Conv2D(40, kernel_size=(64, 1)))\n",
    "model.add(BatchNormalization(momentum=0.1))\n",
    "model.add(Lambda(lambda x: x ** 2))\n",
    "model.add(AveragePooling2D(pool_size=(1, 75), strides=(1, 1)))\n",
    "model.add(Lambda(lambda x: safe_log(x)))\n",
    "model.add(BatchNormalization(momentum=0.1))\n",
    "#model.add(Dropout(0.5))\n",
    "model.add(Conv2D(2, kernel_size=(1, 30), dilation_rate=(15, 1)))\n",
    "model.add(BatchNormalization(momentum=0.1))\n",
    "model.add(Flatten())\n",
    "model.add(Dense(num_classes, activation='softmax'))\n"
   ]
  },
  {
   "cell_type": "code",
   "execution_count": null,
   "metadata": {},
   "outputs": [],
   "source": [
    "model.compile(loss=keras.losses.categorical_crossentropy,\n",
    "              optimizer=keras.optimizers.Adadelta(),\n",
    "              metrics=['accuracy'])\n",
    "\n",
    "model.summary()"
   ]
  },
  {
   "cell_type": "code",
   "execution_count": null,
   "metadata": {},
   "outputs": [],
   "source": [
    "class AccuracyHistory(keras.callbacks.Callback):\n",
    "    def on_train_begin(self, logs={}):\n",
    "        self.acc = []\n",
    "\n",
    "    def on_epoch_end(self, batch, logs={}):\n",
    "        self.acc.append(logs.get('val_acc'))\n",
    "        \n",
    "history = AccuracyHistory()\n",
    "\n"
   ]
  },
  {
   "cell_type": "code",
   "execution_count": null,
   "metadata": {},
   "outputs": [],
   "source": [
    "tensor_board = TensorBoard('./logs/baseline_shallow_batch_normalization')\n",
    "\n",
    "model.fit(X_train, y_train,\n",
    "          batch_size=batch_size,\n",
    "          epochs=epochs,\n",
    "          verbose=1,\n",
    "          validation_data=(X_test, y_test),\n",
    "          callbacks=[history, tensor_board])\n",
    "\n",
    "\n",
    "score = model.evaluate(X_test, y_test, verbose=0)\n",
    "log.info('Test loss:', score[0])\n",
    "log.info('Test accuracy:', score[1])\n",
    "\n",
    "plt.plot(range(1,len(history.acc) + 1), history.acc)\n",
    "plt.xlabel('Epochs')\n",
    "plt.ylabel('Accuracy')\n",
    "plt.show()"
   ]
  },
  {
   "cell_type": "code",
   "execution_count": null,
   "metadata": {},
   "outputs": [],
   "source": [
    "IPython.display.Audio(\"F:\\\\Tresorit\\\\01 - Startup Screen.mp3\", autoplay=True)\n"
   ]
  },
  {
   "cell_type": "code",
   "execution_count": null,
   "metadata": {},
   "outputs": [],
   "source": [
    "weights = model.get_weights()\n",
    "\n",
    "%store weights"
   ]
  },
  {
   "cell_type": "code",
   "execution_count": null,
   "metadata": {},
   "outputs": [],
   "source": [
    "\n",
    "with open('json_weights_bn.pkl', 'wb') as f:\n",
    "    pickle.dump((model.to_json(), model.get_weights()), f)"
   ]
  },
  {
   "cell_type": "code",
   "execution_count": null,
   "metadata": {},
   "outputs": [],
   "source": [
    "model.evaluate(X_train, y_train)"
   ]
  },
  {
   "cell_type": "code",
   "execution_count": null,
   "metadata": {},
   "outputs": [],
   "source": [
    "model.get"
   ]
  }
 ],
 "metadata": {
  "kernelspec": {
   "display_name": "TensorFlow-GPU",
   "language": "python",
   "name": "tf-gpu"
  },
  "language_info": {
   "codemirror_mode": {
    "name": "ipython",
    "version": 3
   },
   "file_extension": ".py",
   "mimetype": "text/x-python",
   "name": "python",
   "nbconvert_exporter": "python",
   "pygments_lexer": "ipython3",
   "version": "3.6.8"
  }
 },
 "nbformat": 4,
 "nbformat_minor": 2
}
