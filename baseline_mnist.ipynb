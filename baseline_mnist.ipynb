{
 "cells": [
  {
   "cell_type": "code",
   "execution_count": 1,
   "metadata": {},
   "outputs": [
    {
     "name": "stderr",
     "output_type": "stream",
     "text": [
      "Using TensorFlow backend.\n"
     ]
    }
   ],
   "source": [
    "from common import Trial\n",
    "from typing import List\n",
    "from tqdm import tqdm\n",
    "import re\n",
    "import traceback\n",
    "import numpy as np\n",
    "import os\n",
    "import pandas as pd\n",
    "import sys\n",
    "from sklearn.model_selection import train_test_split\n",
    "import keras\n",
    "from keras.layers import Dense, Flatten\n",
    "from keras.layers import Conv2D, MaxPooling2D\n",
    "from keras.models import Sequential\n",
    "import matplotlib.pylab as plt\n",
    "\n"
   ]
  },
  {
   "cell_type": "code",
   "execution_count": 2,
   "metadata": {},
   "outputs": [],
   "source": [
    "channel_map = {'FP1': 0,\n",
    " 'FP2': 1,\n",
    " 'F7': 2,\n",
    " 'F8': 3,\n",
    " 'AF1': 4,\n",
    " 'AF2': 5,\n",
    " 'FZ': 6,\n",
    " 'F4': 7,\n",
    " 'F3': 8,\n",
    " 'FC6': 9,\n",
    " 'FC5': 10,\n",
    " 'FC2': 11,\n",
    " 'FC1': 12,\n",
    " 'T8': 13,\n",
    " 'T7': 14,\n",
    " 'CZ': 15,\n",
    " 'C3': 16,\n",
    " 'C4': 17,\n",
    " 'CP5': 18,\n",
    " 'CP6': 19,\n",
    " 'CP1': 20,\n",
    " 'CP2': 21,\n",
    " 'P3': 22,\n",
    " 'P4': 23,\n",
    " 'PZ': 24,\n",
    " 'P8': 25,\n",
    " 'P7': 26,\n",
    " 'PO2': 27,\n",
    " 'PO1': 28,\n",
    " 'O2': 29,\n",
    " 'O1': 30,\n",
    " 'X': 31,\n",
    " 'AF7': 32,\n",
    " 'AF8': 33,\n",
    " 'F5': 34,\n",
    " 'F6': 35,\n",
    " 'FT7': 36,\n",
    " 'FT8': 37,\n",
    " 'FPZ': 38,\n",
    " 'FC4': 39,\n",
    " 'FC3': 40,\n",
    " 'C6': 41,\n",
    " 'C5': 42,\n",
    " 'F2': 43,\n",
    " 'F1': 44,\n",
    " 'TP8': 45,\n",
    " 'TP7': 46,\n",
    " 'AFZ': 47,\n",
    " 'CP3': 48,\n",
    " 'CP4': 49,\n",
    " 'P5': 50,\n",
    " 'P6': 51,\n",
    " 'C1': 52,\n",
    " 'C2': 53,\n",
    " 'PO7': 54,\n",
    " 'PO8': 55,\n",
    " 'FCZ': 56,\n",
    " 'POZ': 57,\n",
    " 'OZ': 58,\n",
    " 'P2': 59,\n",
    " 'P1': 60,\n",
    " 'CPZ': 61,\n",
    " 'nd': 62,\n",
    " 'Y': 63}"
   ]
  },
  {
   "cell_type": "code",
   "execution_count": 3,
   "metadata": {},
   "outputs": [
    {
     "name": "stdout",
     "output_type": "stream",
     "text": [
      "# co2a0000364.rd\n",
      "# 120 trials, 64 chans, 416 samples 368 post_stim samples\n",
      "# 3.906000 msecs uV\n",
      "# S1 obj , trial 0\n",
      "# FP1 chan 0\n",
      "0 FP1 0 -8.921\n",
      "0 FP1 1 -8.433\n",
      "0 FP1 2 -2.574\n",
      "0 FP1 3 5.239\n",
      "0 FP1 4 11.587\n"
     ]
    }
   ],
   "source": [
    "with open('eeg_full/co2a0000364.txt', 'r') as f:\n",
    "    file_content = f.read()\n",
    "    \n",
    "print(file_content[:200])\n"
   ]
  },
  {
   "cell_type": "code",
   "execution_count": 4,
   "metadata": {},
   "outputs": [],
   "source": [
    "trials = list(filter(lambda string: len(string) > 0, re.split(r'^# co\\w{9}.rd', file_content, flags=re.MULTILINE)))\n",
    "trials[0]\n",
    "\n",
    "trial = trials[0]\n",
    "subject_id = file_content[2:13]\n",
    "if 'a' == subject_id[3]:\n",
    "    subject_class = 1\n",
    "elif 'c' == subject_id[3]:\n",
    "    subject_class = 0\n",
    "else:\n",
    "    raise ValueError('Invalid subject class: ' + subject_id)\n",
    "    \n",
    "lines = trial.split('\\n')\n",
    "trial_type_str, trial_number = tuple(lines[3].split(' , trial'))\n",
    "trial_number = int(trial_number)\n",
    "\n",
    "if trial_type_str == '# S1 obj':\n",
    "    trial_type = 0\n",
    "elif trial_type_str == '# S2 match':\n",
    "    trial_type = 1\n",
    "elif trial_type_str == '# S2 nomatch':\n",
    "    trial_type = 2\n",
    "else:\n",
    "    raise ValueError('Invalid trial_type_str: ' + trial_type_str)\n",
    "\n",
    "lines = lines[4:]\n"
   ]
  },
  {
   "cell_type": "code",
   "execution_count": 5,
   "metadata": {},
   "outputs": [
    {
     "name": "stdout",
     "output_type": "stream",
     "text": [
      "[[  0.      0.     -8.921]\n",
      " [  0.      1.     -8.433]\n",
      " [  0.      2.     -2.574]\n",
      " ...\n",
      " [ 63.    253.     15.849]\n",
      " [ 63.    254.     16.337]\n",
      " [ 63.    255.     14.872]]\n"
     ]
    }
   ],
   "source": [
    "measurements = [(channel_map[line.split()[1]], int(line.split()[2]), float(line.split()[3])) for line in lines if len(line) > 0 and line[0] != '#']\n",
    "measurements = np.array(measurements)\n",
    "\n",
    "print(measurements)"
   ]
  },
  {
   "cell_type": "code",
   "execution_count": 6,
   "metadata": {},
   "outputs": [],
   "source": [
    "eeg = measurements[:, 2].reshape((64,256))\n",
    "eeg = np.array([np.mean(eeg_channel.reshape(-1, 4), axis=1) for eeg_channel in eeg[::1]])\n",
    "eeg = (eeg - np.min(eeg))/np.ptp(eeg)"
   ]
  },
  {
   "cell_type": "code",
   "execution_count": 7,
   "metadata": {},
   "outputs": [
    {
     "data": {
      "text/plain": [
       "array([[0.23834638, 0.4916502 , 0.28900715, ..., 0.48953628, 0.3607726 ,\n",
       "        0.39665749],\n",
       "       [0.37748516, 0.44503141, 0.25927383, ..., 0.46825435, 0.33949067,\n",
       "        0.39436632],\n",
       "       [0.23095412, 0.50536695, 0.29006195, ..., 0.59612749, 0.31960938,\n",
       "        0.43992599],\n",
       "       ...,\n",
       "       [0.28725202, 0.29780005, 0.27880064, ..., 0.36534197, 0.35268434,\n",
       "        0.3674559 ],\n",
       "       [0.23658694, 0.49199604, 0.2872477 , ..., 0.49199604, 0.36112708,\n",
       "        0.40545471],\n",
       "       [0.29727264, 0.46614042, 0.30360578, ..., 0.67088876, 0.4133614 ,\n",
       "        0.55901488]])"
      ]
     },
     "execution_count": 7,
     "metadata": {},
     "output_type": "execute_result"
    }
   ],
   "source": [
    "eeg"
   ]
  },
  {
   "cell_type": "code",
   "execution_count": 8,
   "metadata": {},
   "outputs": [
    {
     "data": {
      "text/plain": [
       "{\n",
       "    \"subject_id\": \"co2a0000364\",\n",
       "    \"subject_class\": 1,\n",
       "    \"trial_number\": 0,\n",
       "    \"trial_type\": 0,\n",
       "    \"eeg\": \"[[0.23834638 0.4916502  0.28900715 ... 0.48953628 0.3607726  0.39665749]\\n [0.37748516 0.44503141 0.25927383 ... 0.46825435 0.33949067 0.39436632]\\n [0.23095412 0.50536695 0.29006195 ... 0.59612749 0.31960938 0.43992599]\\n ...\\n [0.28725202 0.29780005 0.27880064 ... 0.36534197 0.35268434 0.3674559 ]\\n [0.23658694 0.49199604 0.2872477  ... 0.49199604 0.36112708 0.40545471]\\n [0.29727264 0.46614042 0.30360578 ... 0.67088876 0.4133614  0.55901488]]\"\n",
       "}"
      ]
     },
     "execution_count": 8,
     "metadata": {},
     "output_type": "execute_result"
    }
   ],
   "source": [
    "Trial(subject_id, subject_class, trial_number, trial_type, eeg)"
   ]
  },
  {
   "cell_type": "code",
   "execution_count": 9,
   "metadata": {},
   "outputs": [],
   "source": [
    "errors = 0\n",
    "zeros = 0\n",
    "\n",
    "def read_trials(eeg_file: str) -> List[Trial]:\n",
    "    global errors, zeros\n",
    "    \n",
    "    with open(eeg_file, 'r') as f:\n",
    "        file_content = f.read()\n",
    "        \n",
    "        subject_id = file_content[2:13]\n",
    "        if 'a' == subject_id[3]:\n",
    "            subject_class = 1\n",
    "        elif 'c' == subject_id[3]:\n",
    "            subject_class = 0\n",
    "        else:\n",
    "            raise ValueError('Invalid subject class: ' + subject_id)\n",
    "        \n",
    "        trials = []\n",
    "        trials_str = list(filter(lambda string: len(string) > 0, re.split(r'^# co\\w{9}.rd', file_content, flags=re.MULTILINE)))\n",
    "\n",
    "        \n",
    "        for trial in trials_str:\n",
    "            try:\n",
    "                lines = list(filter(lambda line: len(line) > 0, map(lambda line: line.strip(), trial.split('\\n'))))\n",
    "                trial_type_str, trial_number = tuple(lines[2].split(', trial'))\n",
    "                trial_number = int(trial_number)\n",
    "\n",
    "                if 'err' in trial_type_str:\n",
    "                    print('Skipping trial |{}| from file |{}| due to error type'.format(trial_number, eeg_file))\n",
    "                    errors = errors + 1\n",
    "                    continue\n",
    "                elif trial_type_str.startswith('# S1 obj'):\n",
    "                    trial_type = 0\n",
    "                elif trial_type_str.startswith('# S2 match'):\n",
    "                    trial_type = 1\n",
    "                elif trial_type_str.startswith('# S2 nomatch'):\n",
    "                    trial_type = 2\n",
    "                else:\n",
    "                    raise ValueError('Invalid trial_type_str: ' + trial_type_str)\n",
    "\n",
    "                lines = lines[4:]\n",
    "\n",
    "                measurements = [(channel_map[line.split()[1]], int(line.split()[2]), float(line.split()[3])) for line in lines if len(line) > 0 and line[0] != '#']\n",
    "                measurements = np.array(measurements)\n",
    "                eeg = measurements[:, 2].reshape((64,256))\n",
    "                eeg = np.array([np.mean(eeg_channel.reshape(-1, 4), axis=1) for eeg_channel in eeg[::1]])\n",
    "                eeg = (eeg - np.min(eeg))/np.ptp(eeg)\n",
    "                \n",
    "\n",
    "                if np.count_nonzero(eeg) == 0:\n",
    "                    print('Skipping trial |{}| from file |{}| due to only 0 values'.format(trial_number, eeg_file))\n",
    "                    zeros = zeros + 1\n",
    "                    continue\n",
    "                    \n",
    "                trials.append(Trial(subject_id, subject_class, trial_number, trial_type, eeg))\n",
    "            except:\n",
    "                print(traceback.format_exc())\n",
    "                print('Error in file: |{}|'.format(eeg_file))\n",
    "                print('Error for: |{}|'.format(trial))\n",
    "                print('Error for: |{}|'.format(lines[2]))\n",
    "                raise\n",
    "                \n",
    "            \n",
    "        return trials\n"
   ]
  },
  {
   "cell_type": "code",
   "execution_count": 10,
   "metadata": {},
   "outputs": [
    {
     "name": "stderr",
     "output_type": "stream",
     "text": [
      "  2%|▏         | 2/122 [00:26<24:30, 12.26s/it]"
     ]
    },
    {
     "name": "stdout",
     "output_type": "stream",
     "text": [
      "Skipping trial |89| from file |eeg_full/co2c0000362.txt| due to error type\n"
     ]
    },
    {
     "name": "stderr",
     "output_type": "stream",
     "text": [
      "  4%|▍         | 5/122 [01:05<25:26, 13.05s/it]"
     ]
    },
    {
     "name": "stdout",
     "output_type": "stream",
     "text": [
      "Skipping trial |5| from file |eeg_full/co2c0000348.txt| due to error type\n",
      "Skipping trial |109| from file |eeg_full/co2c0000348.txt| due to error type\n"
     ]
    },
    {
     "name": "stderr",
     "output_type": "stream",
     "text": [
      " 10%|▉         | 12/122 [02:21<20:04, 10.95s/it]"
     ]
    },
    {
     "name": "stdout",
     "output_type": "stream",
     "text": [
      "Skipping trial |31| from file |eeg_full/co2a0000404.txt| due to error type\n"
     ]
    },
    {
     "name": "stderr",
     "output_type": "stream",
     "text": [
      "\r",
      " 11%|█         | 13/122 [02:33<20:19, 11.19s/it]"
     ]
    },
    {
     "name": "stdout",
     "output_type": "stream",
     "text": [
      "Skipping trial |1| from file |eeg_full/co2a0000410.txt| due to error type\n",
      "Skipping trial |33| from file |eeg_full/co2a0000410.txt| due to error type\n",
      "Skipping trial |95| from file |eeg_full/co2a0000410.txt| due to error type\n"
     ]
    },
    {
     "name": "stderr",
     "output_type": "stream",
     "text": [
      " 15%|█▍        | 18/122 [03:34<20:56, 12.08s/it]"
     ]
    },
    {
     "name": "stdout",
     "output_type": "stream",
     "text": [
      "Skipping trial |3| from file |eeg_full/co2a0000439.txt| due to error type\n",
      "Skipping trial |77| from file |eeg_full/co2a0000439.txt| due to error type\n",
      "Skipping trial |99| from file |eeg_full/co2a0000439.txt| due to error type\n"
     ]
    },
    {
     "name": "stderr",
     "output_type": "stream",
     "text": [
      "\r",
      " 16%|█▌        | 19/122 [03:46<20:46, 12.10s/it]"
     ]
    },
    {
     "name": "stdout",
     "output_type": "stream",
     "text": [
      "Skipping trial |71| from file |eeg_full/co2a0000411.txt| due to error type\n"
     ]
    },
    {
     "name": "stderr",
     "output_type": "stream",
     "text": [
      " 17%|█▋        | 21/122 [04:11<20:39, 12.28s/it]"
     ]
    },
    {
     "name": "stdout",
     "output_type": "stream",
     "text": [
      "Skipping trial |13| from file |eeg_full/co2a0000405.txt| due to error type\n",
      "Skipping trial |29| from file |eeg_full/co2a0000405.txt| due to error type\n",
      "Skipping trial |95| from file |eeg_full/co2a0000405.txt| due to error type\n"
     ]
    },
    {
     "name": "stderr",
     "output_type": "stream",
     "text": [
      " 21%|██▏       | 26/122 [05:02<16:34, 10.36s/it]"
     ]
    },
    {
     "name": "stdout",
     "output_type": "stream",
     "text": [
      "Skipping trial |95| from file |eeg_full/co2a0000406.txt| due to error type\n",
      "Skipping trial |113| from file |eeg_full/co2a0000406.txt| due to error type\n"
     ]
    },
    {
     "name": "stderr",
     "output_type": "stream",
     "text": [
      "\r",
      " 22%|██▏       | 27/122 [05:11<15:37,  9.87s/it]"
     ]
    },
    {
     "name": "stdout",
     "output_type": "stream",
     "text": [
      "Skipping trial |95| from file |eeg_full/co2a0000412.txt| due to error type\n"
     ]
    },
    {
     "name": "stderr",
     "output_type": "stream",
     "text": [
      "\r",
      " 23%|██▎       | 28/122 [05:23<16:41, 10.65s/it]"
     ]
    },
    {
     "name": "stdout",
     "output_type": "stream",
     "text": [
      "Skipping trial |3| from file |eeg_full/co2a0000416.txt| due to error type\n",
      "Skipping trial |63| from file |eeg_full/co2a0000416.txt| due to error type\n"
     ]
    },
    {
     "name": "stderr",
     "output_type": "stream",
     "text": [
      "\r",
      " 24%|██▍       | 29/122 [05:35<16:52, 10.89s/it]"
     ]
    },
    {
     "name": "stdout",
     "output_type": "stream",
     "text": [
      "Skipping trial |7| from file |eeg_full/co2a0000370.txt| due to error type\n",
      "Skipping trial |17| from file |eeg_full/co2a0000370.txt| due to error type\n"
     ]
    },
    {
     "name": "stderr",
     "output_type": "stream",
     "text": [
      "\r",
      " 25%|██▍       | 30/122 [05:50<18:50, 12.28s/it]"
     ]
    },
    {
     "name": "stdout",
     "output_type": "stream",
     "text": [
      "Skipping trial |11| from file |eeg_full/co2a0000364.txt| due to error type\n"
     ]
    },
    {
     "name": "stderr",
     "output_type": "stream",
     "text": [
      "\r",
      " 25%|██▌       | 31/122 [06:06<20:19, 13.40s/it]"
     ]
    },
    {
     "name": "stdout",
     "output_type": "stream",
     "text": [
      "Skipping trial |27| from file |eeg_full/co2a0000402.txt| due to error type\n"
     ]
    },
    {
     "name": "stderr",
     "output_type": "stream",
     "text": [
      " 28%|██▊       | 34/122 [07:04<26:02, 17.75s/it]"
     ]
    },
    {
     "name": "stdout",
     "output_type": "stream",
     "text": [
      "Skipping trial |3| from file |eeg_full/co2a0000365.txt| due to error type\n",
      "Skipping trial |75| from file |eeg_full/co2a0000365.txt| due to error type\n",
      "Skipping trial |97| from file |eeg_full/co2a0000365.txt| due to error type\n"
     ]
    },
    {
     "name": "stderr",
     "output_type": "stream",
     "text": [
      "\r",
      " 29%|██▊       | 35/122 [07:16<23:15, 16.04s/it]"
     ]
    },
    {
     "name": "stdout",
     "output_type": "stream",
     "text": [
      "Skipping trial |41| from file |eeg_full/co2a0000403.txt| due to error type\n",
      "Skipping trial |51| from file |eeg_full/co2a0000403.txt| due to error type\n",
      "Skipping trial |61| from file |eeg_full/co2a0000403.txt| due to error type\n",
      "Skipping trial |97| from file |eeg_full/co2a0000403.txt| due to error type\n",
      "Skipping trial |105| from file |eeg_full/co2a0000403.txt| due to error type\n",
      "Skipping trial |117| from file |eeg_full/co2a0000403.txt| due to error type\n"
     ]
    },
    {
     "name": "stderr",
     "output_type": "stream",
     "text": [
      "\r",
      " 30%|██▉       | 36/122 [07:29<21:32, 15.03s/it]"
     ]
    },
    {
     "name": "stdout",
     "output_type": "stream",
     "text": [
      "Skipping trial |51| from file |eeg_full/co2a0000417.txt| due to error type\n"
     ]
    },
    {
     "name": "stderr",
     "output_type": "stream",
     "text": [
      " 37%|███▋      | 45/122 [09:32<18:17, 14.25s/it]"
     ]
    },
    {
     "name": "stdout",
     "output_type": "stream",
     "text": [
      "Skipping trial |27| from file |eeg_full/co2a0000414.txt| due to error type\n"
     ]
    },
    {
     "name": "stderr",
     "output_type": "stream",
     "text": [
      " 39%|███▊      | 47/122 [09:59<17:12, 13.76s/it]"
     ]
    },
    {
     "name": "stdout",
     "output_type": "stream",
     "text": [
      "Skipping trial |95| from file |eeg_full/co2a0000428.txt| due to error type\n"
     ]
    },
    {
     "name": "stderr",
     "output_type": "stream",
     "text": [
      " 41%|████      | 50/122 [10:27<12:14, 10.20s/it]"
     ]
    },
    {
     "name": "stdout",
     "output_type": "stream",
     "text": [
      "Skipping trial |115| from file |eeg_full/co2a0000425.txt| due to error type\n",
      "Skipping trial |1| from file |eeg_full/co2a0000419.txt| due to error type\n",
      "Skipping trial |9| from file |eeg_full/co2a0000419.txt| due to error type\n"
     ]
    },
    {
     "name": "stderr",
     "output_type": "stream",
     "text": [
      " 43%|████▎     | 53/122 [11:11<15:22, 13.37s/it]"
     ]
    },
    {
     "name": "stdout",
     "output_type": "stream",
     "text": [
      "Skipping trial |119| from file |eeg_full/co2a0000394.txt| due to error type\n"
     ]
    },
    {
     "name": "stderr",
     "output_type": "stream",
     "text": [
      "\r",
      " 44%|████▍     | 54/122 [11:25<15:21, 13.56s/it]"
     ]
    },
    {
     "name": "stdout",
     "output_type": "stream",
     "text": [
      "Skipping trial |35| from file |eeg_full/co2a0000381.txt| due to error type\n",
      "Skipping trial |61| from file |eeg_full/co2a0000381.txt| due to error type\n",
      "Skipping trial |63| from file |eeg_full/co2a0000381.txt| due to error type\n",
      "Skipping trial |71| from file |eeg_full/co2a0000381.txt| due to error type\n",
      "Skipping trial |91| from file |eeg_full/co2a0000381.txt| due to error type\n"
     ]
    },
    {
     "name": "stderr",
     "output_type": "stream",
     "text": [
      "\r",
      " 45%|████▌     | 55/122 [11:39<15:02, 13.48s/it]"
     ]
    },
    {
     "name": "stdout",
     "output_type": "stream",
     "text": [
      "Skipping trial |37| from file |eeg_full/co2a0000418.txt| due to error type\n",
      "Skipping trial |41| from file |eeg_full/co2a0000418.txt| due to error type\n",
      "Skipping trial |71| from file |eeg_full/co2a0000418.txt| due to error type\n",
      "Skipping trial |93| from file |eeg_full/co2a0000418.txt| due to error type\n"
     ]
    },
    {
     "name": "stderr",
     "output_type": "stream",
     "text": [
      " 48%|████▊     | 58/122 [12:29<17:14, 16.16s/it]"
     ]
    },
    {
     "name": "stdout",
     "output_type": "stream",
     "text": [
      "Skipping trial |119| from file |eeg_full/co2a0000424.txt| due to error type\n"
     ]
    },
    {
     "name": "stderr",
     "output_type": "stream",
     "text": [
      "\r",
      " 48%|████▊     | 59/122 [12:53<19:36, 18.67s/it]"
     ]
    },
    {
     "name": "stdout",
     "output_type": "stream",
     "text": [
      "Skipping trial |17| from file |eeg_full/co2a0000432.txt| due to error type\n",
      "Skipping trial |27| from file |eeg_full/co2a0000432.txt| due to error type\n",
      "Skipping trial |47| from file |eeg_full/co2a0000432.txt| due to error type\n",
      "Skipping trial |63| from file |eeg_full/co2a0000432.txt| due to error type\n"
     ]
    },
    {
     "name": "stderr",
     "output_type": "stream",
     "text": [
      "\r",
      " 49%|████▉     | 60/122 [13:11<18:50, 18.23s/it]"
     ]
    },
    {
     "name": "stdout",
     "output_type": "stream",
     "text": [
      "Skipping trial |19| from file |eeg_full/co2a0000426.txt| due to error type\n",
      "Skipping trial |41| from file |eeg_full/co2a0000426.txt| due to error type\n",
      "Skipping trial |109| from file |eeg_full/co2a0000426.txt| due to error type\n"
     ]
    },
    {
     "name": "stderr",
     "output_type": "stream",
     "text": [
      "\r",
      " 50%|█████     | 61/122 [13:21<16:18, 16.05s/it]"
     ]
    },
    {
     "name": "stdout",
     "output_type": "stream",
     "text": [
      "Skipping trial |21| from file |eeg_full/co2a0000368.txt| due to error type\n"
     ]
    },
    {
     "name": "stderr",
     "output_type": "stream",
     "text": [
      " 54%|█████▍    | 66/122 [14:33<13:38, 14.62s/it]"
     ]
    },
    {
     "name": "stdout",
     "output_type": "stream",
     "text": [
      "Skipping trial |25| from file |eeg_full/co2a0000382.txt| due to error type\n",
      "Skipping trial |39| from file |eeg_full/co2a0000382.txt| due to error type\n"
     ]
    },
    {
     "name": "stderr",
     "output_type": "stream",
     "text": [
      " 56%|█████▌    | 68/122 [15:02<12:56, 14.38s/it]"
     ]
    },
    {
     "name": "stdout",
     "output_type": "stream",
     "text": [
      "Skipping trial |5| from file |eeg_full/co2a0000369.txt| due to error type\n",
      "Skipping trial |7| from file |eeg_full/co2a0000369.txt| due to error type\n",
      "Skipping trial |49| from file |eeg_full/co2a0000369.txt| due to error type\n",
      "Skipping trial |69| from file |eeg_full/co2a0000369.txt| due to error type\n",
      "Skipping trial |79| from file |eeg_full/co2a0000369.txt| due to error type\n"
     ]
    },
    {
     "name": "stderr",
     "output_type": "stream",
     "text": [
      " 57%|█████▋    | 70/122 [15:29<11:50, 13.66s/it]"
     ]
    },
    {
     "name": "stdout",
     "output_type": "stream",
     "text": [
      "Skipping trial |3| from file |eeg_full/co2a0000433.txt| due to error type\n",
      "Skipping trial |11| from file |eeg_full/co2a0000433.txt| due to error type\n",
      "Skipping trial |33| from file |eeg_full/co2a0000433.txt| due to error type\n",
      "Skipping trial |41| from file |eeg_full/co2a0000433.txt| due to error type\n",
      "Skipping trial |59| from file |eeg_full/co2a0000433.txt| due to error type\n"
     ]
    },
    {
     "name": "stderr",
     "output_type": "stream",
     "text": [
      "\r",
      " 58%|█████▊    | 71/122 [15:39<10:44, 12.63s/it]"
     ]
    },
    {
     "name": "stdout",
     "output_type": "stream",
     "text": [
      "Skipping trial |21| from file |eeg_full/co2a0000379.txt| due to error type\n"
     ]
    },
    {
     "name": "stderr",
     "output_type": "stream",
     "text": [
      " 61%|██████▏   | 75/122 [16:34<10:47, 13.77s/it]"
     ]
    },
    {
     "name": "stdout",
     "output_type": "stream",
     "text": [
      "Skipping trial |77| from file |eeg_full/co2a0000386.txt| due to error type\n",
      "Skipping trial |113| from file |eeg_full/co2a0000386.txt| due to error type\n"
     ]
    },
    {
     "name": "stderr",
     "output_type": "stream",
     "text": [
      " 64%|██████▍   | 78/122 [17:19<10:51, 14.80s/it]"
     ]
    },
    {
     "name": "stdout",
     "output_type": "stream",
     "text": [
      "Skipping trial |17| from file |eeg_full/co2a0000387.txt| due to error type\n"
     ]
    },
    {
     "name": "stderr",
     "output_type": "stream",
     "text": [
      " 67%|██████▋   | 82/122 [18:09<09:19, 13.98s/it]"
     ]
    },
    {
     "name": "stdout",
     "output_type": "stream",
     "text": [
      "Skipping trial |75| from file |eeg_full/co2a0000434.txt| due to error type\n"
     ]
    },
    {
     "name": "stderr",
     "output_type": "stream",
     "text": [
      "\r",
      " 68%|██████▊   | 83/122 [18:22<08:50, 13.60s/it]"
     ]
    },
    {
     "name": "stdout",
     "output_type": "stream",
     "text": [
      "Skipping trial |3| from file |eeg_full/co2a0000385.txt| due to error type\n",
      "Skipping trial |9| from file |eeg_full/co2a0000385.txt| due to error type\n",
      "Skipping trial |97| from file |eeg_full/co2a0000385.txt| due to error type\n"
     ]
    },
    {
     "name": "stderr",
     "output_type": "stream",
     "text": [
      " 70%|██████▉   | 85/122 [18:50<08:41, 14.09s/it]"
     ]
    },
    {
     "name": "stdout",
     "output_type": "stream",
     "text": [
      "Skipping trial |25| from file |eeg_full/co2a0000384.txt| due to error type\n"
     ]
    },
    {
     "name": "stderr",
     "output_type": "stream",
     "text": [
      "\r",
      " 70%|███████   | 86/122 [19:02<08:01, 13.38s/it]"
     ]
    },
    {
     "name": "stdout",
     "output_type": "stream",
     "text": [
      "Skipping trial |95| from file |eeg_full/co2a0000435.txt| due to error type\n"
     ]
    },
    {
     "name": "stderr",
     "output_type": "stream",
     "text": [
      " 72%|███████▏  | 88/122 [19:23<06:52, 12.12s/it]"
     ]
    },
    {
     "name": "stdout",
     "output_type": "stream",
     "text": [
      "Skipping trial |61| from file |eeg_full/co2a0000409.txt| due to error type\n"
     ]
    },
    {
     "name": "stderr",
     "output_type": "stream",
     "text": [
      " 74%|███████▍  | 90/122 [19:51<07:04, 13.26s/it]"
     ]
    },
    {
     "name": "stdout",
     "output_type": "stream",
     "text": [
      "Skipping trial |119| from file |eeg_full/co2c0000381.txt| due to error type\n"
     ]
    },
    {
     "name": "stderr",
     "output_type": "stream",
     "text": [
      "\r",
      " 75%|███████▍  | 91/122 [20:06<07:05, 13.74s/it]"
     ]
    },
    {
     "name": "stdout",
     "output_type": "stream",
     "text": [
      "Skipping trial |17| from file |eeg_full/co2c0000342.txt| due to error type\n"
     ]
    },
    {
     "name": "stderr",
     "output_type": "stream",
     "text": [
      "\r",
      " 75%|███████▌  | 92/122 [20:20<06:52, 13.74s/it]"
     ]
    },
    {
     "name": "stdout",
     "output_type": "stream",
     "text": [
      "Skipping trial |93| from file |eeg_full/co2c0000356.txt| due to error type\n"
     ]
    },
    {
     "name": "stderr",
     "output_type": "stream",
     "text": [
      " 78%|███████▊  | 95/122 [21:01<05:59, 13.33s/it]"
     ]
    },
    {
     "name": "stdout",
     "output_type": "stream",
     "text": [
      "Skipping trial |93| from file |eeg_full/co2a0000447.txt| due to error type\n"
     ]
    },
    {
     "name": "stderr",
     "output_type": "stream",
     "text": [
      " 82%|████████▏ | 100/122 [21:57<04:13, 11.53s/it]"
     ]
    },
    {
     "name": "stdout",
     "output_type": "stream",
     "text": [
      "Skipping trial |17| from file |eeg_full/co2c0000341.txt| due to error type\n",
      "Skipping trial |37| from file |eeg_full/co2c0000341.txt| due to error type\n"
     ]
    },
    {
     "name": "stderr",
     "output_type": "stream",
     "text": [
      "\r",
      " 83%|████████▎ | 101/122 [22:13<04:25, 12.65s/it]"
     ]
    },
    {
     "name": "stdout",
     "output_type": "stream",
     "text": [
      "Skipping trial |119| from file |eeg_full/co2c0000341.txt| due to error type\n"
     ]
    },
    {
     "name": "stderr",
     "output_type": "stream",
     "text": [
      "\r",
      " 84%|████████▎ | 102/122 [22:23<03:58, 11.93s/it]"
     ]
    },
    {
     "name": "stdout",
     "output_type": "stream",
     "text": [
      "Skipping trial |41| from file |eeg_full/co2c0000354.txt| due to error type\n"
     ]
    },
    {
     "name": "stderr",
     "output_type": "stream",
     "text": [
      "\r",
      " 84%|████████▍ | 103/122 [22:34<03:39, 11.56s/it]"
     ]
    },
    {
     "name": "stdout",
     "output_type": "stream",
     "text": [
      "Skipping trial |97| from file |eeg_full/co2c0000383.txt| due to error type\n"
     ]
    },
    {
     "name": "stderr",
     "output_type": "stream",
     "text": [
      "\r",
      " 85%|████████▌ | 104/122 [22:46<03:34, 11.91s/it]"
     ]
    },
    {
     "name": "stdout",
     "output_type": "stream",
     "text": [
      "Skipping trial |103| from file |eeg_full/co2c0000397.txt| due to error type\n"
     ]
    },
    {
     "name": "stderr",
     "output_type": "stream",
     "text": [
      " 91%|█████████ | 111/122 [24:01<01:58, 10.77s/it]"
     ]
    },
    {
     "name": "stdout",
     "output_type": "stream",
     "text": [
      "Skipping trial |55| from file |eeg_full/co2c0000345.txt| due to error type\n"
     ]
    },
    {
     "name": "stderr",
     "output_type": "stream",
     "text": [
      " 93%|█████████▎| 113/122 [24:24<01:39, 11.01s/it]"
     ]
    },
    {
     "name": "stdout",
     "output_type": "stream",
     "text": [
      "Skipping trial |9| from file |eeg_full/co2c0000379.txt| due to error type\n",
      "Skipping trial |113| from file |eeg_full/co2c0000379.txt| due to error type\n"
     ]
    },
    {
     "name": "stderr",
     "output_type": "stream",
     "text": [
      " 96%|█████████▌| 117/122 [25:07<00:53, 10.73s/it]"
     ]
    },
    {
     "name": "stdout",
     "output_type": "stream",
     "text": [
      "Skipping trial |51| from file |eeg_full/co2c0000390.txt| due to error type\n"
     ]
    },
    {
     "name": "stderr",
     "output_type": "stream",
     "text": [
      " 98%|█████████▊| 120/122 [25:33<00:18,  9.24s/it]"
     ]
    },
    {
     "name": "stdout",
     "output_type": "stream",
     "text": [
      "Skipping trial |93| from file |eeg_full/co2c0000346.txt| due to error type\n"
     ]
    },
    {
     "name": "stderr",
     "output_type": "stream",
     "text": [
      "100%|██████████| 122/122 [25:52<00:00,  8.94s/it]"
     ]
    },
    {
     "name": "stdout",
     "output_type": "stream",
     "text": [
      "Good trials: 10962, Error trials: 95, Zeros trials: 0\n"
     ]
    },
    {
     "name": "stderr",
     "output_type": "stream",
     "text": [
      "\n"
     ]
    }
   ],
   "source": [
    "all_trials = []\n",
    "\n",
    "for file in tqdm(os.listdir('eeg_full')):\n",
    "    all_trials = all_trials + read_trials('eeg_full/' + file)\n",
    "    \n",
    "print('Good trials: {}, Error trials: {}, Zeros trials: {}'.format(len(all_trials), errors, zeros))"
   ]
  },
  {
   "cell_type": "code",
   "execution_count": 11,
   "metadata": {},
   "outputs": [],
   "source": [
    "df = pd.DataFrame.from_records([trial.to_dict() for trial in all_trials])\n",
    "df = df.sample(frac=1).reset_index(drop=True)"
   ]
  },
  {
   "cell_type": "code",
   "execution_count": 12,
   "metadata": {},
   "outputs": [
    {
     "data": {
      "text/plain": [
       "361526864"
      ]
     },
     "execution_count": 12,
     "metadata": {},
     "output_type": "execute_result"
    }
   ],
   "source": [
    "sys.getsizeof(df)"
   ]
  },
  {
   "cell_type": "code",
   "execution_count": 13,
   "metadata": {},
   "outputs": [
    {
     "data": {
      "text/html": [
       "<div>\n",
       "<style scoped>\n",
       "    .dataframe tbody tr th:only-of-type {\n",
       "        vertical-align: middle;\n",
       "    }\n",
       "\n",
       "    .dataframe tbody tr th {\n",
       "        vertical-align: top;\n",
       "    }\n",
       "\n",
       "    .dataframe thead th {\n",
       "        text-align: right;\n",
       "    }\n",
       "</style>\n",
       "<table border=\"1\" class=\"dataframe\">\n",
       "  <thead>\n",
       "    <tr style=\"text-align: right;\">\n",
       "      <th></th>\n",
       "      <th>eeg</th>\n",
       "      <th>subject_class</th>\n",
       "      <th>subject_id</th>\n",
       "      <th>trial_number</th>\n",
       "      <th>trial_type</th>\n",
       "    </tr>\n",
       "  </thead>\n",
       "  <tbody>\n",
       "    <tr>\n",
       "      <th>0</th>\n",
       "      <td>[[0.32602052002063964, 0.3249387123277357, 0.3...</td>\n",
       "      <td>0</td>\n",
       "      <td>co2c0000356</td>\n",
       "      <td>67</td>\n",
       "      <td>2</td>\n",
       "    </tr>\n",
       "    <tr>\n",
       "      <th>1</th>\n",
       "      <td>[[0.2363887745245523, 0.24798597805260408, 0.2...</td>\n",
       "      <td>1</td>\n",
       "      <td>co2a0000445</td>\n",
       "      <td>79</td>\n",
       "      <td>1</td>\n",
       "    </tr>\n",
       "    <tr>\n",
       "      <th>2</th>\n",
       "      <td>[[0.5380679338420093, 0.4866284407121465, 0.49...</td>\n",
       "      <td>1</td>\n",
       "      <td>co2a0000369</td>\n",
       "      <td>0</td>\n",
       "      <td>0</td>\n",
       "    </tr>\n",
       "    <tr>\n",
       "      <th>3</th>\n",
       "      <td>[[0.4241038260292235, 0.5077221399627989, 0.51...</td>\n",
       "      <td>1</td>\n",
       "      <td>co2a0000394</td>\n",
       "      <td>71</td>\n",
       "      <td>1</td>\n",
       "    </tr>\n",
       "    <tr>\n",
       "      <th>4</th>\n",
       "      <td>[[0.6637111720074131, 0.6888493766929085, 0.68...</td>\n",
       "      <td>1</td>\n",
       "      <td>co2a0000433</td>\n",
       "      <td>85</td>\n",
       "      <td>1</td>\n",
       "    </tr>\n",
       "  </tbody>\n",
       "</table>\n",
       "</div>"
      ],
      "text/plain": [
       "                                                 eeg  subject_class  \\\n",
       "0  [[0.32602052002063964, 0.3249387123277357, 0.3...              0   \n",
       "1  [[0.2363887745245523, 0.24798597805260408, 0.2...              1   \n",
       "2  [[0.5380679338420093, 0.4866284407121465, 0.49...              1   \n",
       "3  [[0.4241038260292235, 0.5077221399627989, 0.51...              1   \n",
       "4  [[0.6637111720074131, 0.6888493766929085, 0.68...              1   \n",
       "\n",
       "    subject_id  trial_number  trial_type  \n",
       "0  co2c0000356            67           2  \n",
       "1  co2a0000445            79           1  \n",
       "2  co2a0000369             0           0  \n",
       "3  co2a0000394            71           1  \n",
       "4  co2a0000433            85           1  "
      ]
     },
     "execution_count": 13,
     "metadata": {},
     "output_type": "execute_result"
    }
   ],
   "source": [
    "df.head()"
   ]
  },
  {
   "cell_type": "code",
   "execution_count": 14,
   "metadata": {},
   "outputs": [
    {
     "data": {
      "text/html": [
       "<div>\n",
       "<style scoped>\n",
       "    .dataframe tbody tr th:only-of-type {\n",
       "        vertical-align: middle;\n",
       "    }\n",
       "\n",
       "    .dataframe tbody tr th {\n",
       "        vertical-align: top;\n",
       "    }\n",
       "\n",
       "    .dataframe thead th {\n",
       "        text-align: right;\n",
       "    }\n",
       "</style>\n",
       "<table border=\"1\" class=\"dataframe\">\n",
       "  <thead>\n",
       "    <tr style=\"text-align: right;\">\n",
       "      <th></th>\n",
       "      <th>subject_class</th>\n",
       "      <th>trial_number</th>\n",
       "      <th>trial_type</th>\n",
       "    </tr>\n",
       "  </thead>\n",
       "  <tbody>\n",
       "    <tr>\n",
       "      <th>count</th>\n",
       "      <td>10962.000000</td>\n",
       "      <td>10962.000000</td>\n",
       "      <td>10962.000000</td>\n",
       "    </tr>\n",
       "    <tr>\n",
       "      <th>mean</th>\n",
       "      <td>0.634465</td>\n",
       "      <td>60.611294</td>\n",
       "      <td>0.749225</td>\n",
       "    </tr>\n",
       "    <tr>\n",
       "      <th>std</th>\n",
       "      <td>0.481602</td>\n",
       "      <td>34.155754</td>\n",
       "      <td>0.828051</td>\n",
       "    </tr>\n",
       "    <tr>\n",
       "      <th>min</th>\n",
       "      <td>0.000000</td>\n",
       "      <td>0.000000</td>\n",
       "      <td>0.000000</td>\n",
       "    </tr>\n",
       "    <tr>\n",
       "      <th>25%</th>\n",
       "      <td>0.000000</td>\n",
       "      <td>32.000000</td>\n",
       "      <td>0.000000</td>\n",
       "    </tr>\n",
       "    <tr>\n",
       "      <th>50%</th>\n",
       "      <td>1.000000</td>\n",
       "      <td>61.000000</td>\n",
       "      <td>1.000000</td>\n",
       "    </tr>\n",
       "    <tr>\n",
       "      <th>75%</th>\n",
       "      <td>1.000000</td>\n",
       "      <td>90.000000</td>\n",
       "      <td>1.000000</td>\n",
       "    </tr>\n",
       "    <tr>\n",
       "      <th>max</th>\n",
       "      <td>1.000000</td>\n",
       "      <td>119.000000</td>\n",
       "      <td>2.000000</td>\n",
       "    </tr>\n",
       "  </tbody>\n",
       "</table>\n",
       "</div>"
      ],
      "text/plain": [
       "       subject_class  trial_number    trial_type\n",
       "count   10962.000000  10962.000000  10962.000000\n",
       "mean        0.634465     60.611294      0.749225\n",
       "std         0.481602     34.155754      0.828051\n",
       "min         0.000000      0.000000      0.000000\n",
       "25%         0.000000     32.000000      0.000000\n",
       "50%         1.000000     61.000000      1.000000\n",
       "75%         1.000000     90.000000      1.000000\n",
       "max         1.000000    119.000000      2.000000"
      ]
     },
     "execution_count": 14,
     "metadata": {},
     "output_type": "execute_result"
    }
   ],
   "source": [
    "df.describe()"
   ]
  },
  {
   "cell_type": "code",
   "execution_count": 15,
   "metadata": {},
   "outputs": [],
   "source": [
    "X = df['eeg'].values\n",
    "y = df['subject_class'].values\n",
    "\n",
    "# keras required format\n",
    "X = np.rollaxis(np.dstack(X), -1)\n",
    "X = X.reshape(X.shape[0], 64, 64, 1)\n",
    "y = keras.utils.to_categorical(y, 2)"
   ]
  },
  {
   "cell_type": "code",
   "execution_count": 16,
   "metadata": {},
   "outputs": [
    {
     "data": {
      "text/plain": [
       "(10962, 64, 64, 1)"
      ]
     },
     "execution_count": 16,
     "metadata": {},
     "output_type": "execute_result"
    }
   ],
   "source": [
    "X.shape"
   ]
  },
  {
   "cell_type": "code",
   "execution_count": 17,
   "metadata": {},
   "outputs": [],
   "source": [
    "X_train, X_test, y_train, y_test = train_test_split(X, y, test_size=0.1)"
   ]
  },
  {
   "cell_type": "code",
   "execution_count": 18,
   "metadata": {},
   "outputs": [
    {
     "name": "stdout",
     "output_type": "stream",
     "text": [
      "WARNING:tensorflow:From /usr/local/lib/python3.7/site-packages/tensorflow/python/framework/op_def_library.py:263: colocate_with (from tensorflow.python.framework.ops) is deprecated and will be removed in a future version.\n",
      "Instructions for updating:\n",
      "Colocations handled automatically by placer.\n"
     ]
    }
   ],
   "source": [
    "input_shape = (64, 64, 1)\n",
    "num_classes = 2\n",
    "batch_size=128\n",
    "epochs=50\n",
    "\n",
    "model = Sequential()\n",
    "model.add(Conv2D(32, kernel_size=(5, 5), strides=(1, 1),\n",
    "                 activation='relu',\n",
    "                 input_shape=input_shape))\n",
    "model.add(MaxPooling2D(pool_size=(2, 2), strides=(2, 2)))\n",
    "model.add(Conv2D(64, (5, 5), activation='relu'))\n",
    "model.add(MaxPooling2D(pool_size=(2, 2)))\n",
    "model.add(Flatten())\n",
    "model.add(Dense(1000, activation='relu'))\n",
    "model.add(Dense(num_classes, activation='softmax'))\n"
   ]
  },
  {
   "cell_type": "code",
   "execution_count": 19,
   "metadata": {},
   "outputs": [
    {
     "name": "stdout",
     "output_type": "stream",
     "text": [
      "_________________________________________________________________\n",
      "Layer (type)                 Output Shape              Param #   \n",
      "=================================================================\n",
      "conv2d_1 (Conv2D)            (None, 60, 60, 32)        832       \n",
      "_________________________________________________________________\n",
      "max_pooling2d_1 (MaxPooling2 (None, 30, 30, 32)        0         \n",
      "_________________________________________________________________\n",
      "conv2d_2 (Conv2D)            (None, 26, 26, 64)        51264     \n",
      "_________________________________________________________________\n",
      "max_pooling2d_2 (MaxPooling2 (None, 13, 13, 64)        0         \n",
      "_________________________________________________________________\n",
      "flatten_1 (Flatten)          (None, 10816)             0         \n",
      "_________________________________________________________________\n",
      "dense_1 (Dense)              (None, 1000)              10817000  \n",
      "_________________________________________________________________\n",
      "dense_2 (Dense)              (None, 2)                 2002      \n",
      "=================================================================\n",
      "Total params: 10,871,098\n",
      "Trainable params: 10,871,098\n",
      "Non-trainable params: 0\n",
      "_________________________________________________________________\n"
     ]
    }
   ],
   "source": [
    "model.compile(loss=keras.losses.categorical_crossentropy,\n",
    "              optimizer=keras.optimizers.Adam(),\n",
    "              metrics=['accuracy'])\n",
    "\n",
    "model.summary()"
   ]
  },
  {
   "cell_type": "code",
   "execution_count": 20,
   "metadata": {},
   "outputs": [],
   "source": [
    "class AccuracyHistory(keras.callbacks.Callback):\n",
    "    def on_train_begin(self, logs={}):\n",
    "        self.acc = []\n",
    "\n",
    "    def on_epoch_end(self, batch, logs={}):\n",
    "        self.acc.append(logs.get('val_acc'))\n",
    "        \n",
    "history = AccuracyHistory()\n"
   ]
  },
  {
   "cell_type": "code",
   "execution_count": 21,
   "metadata": {},
   "outputs": [
    {
     "name": "stdout",
     "output_type": "stream",
     "text": [
      "WARNING:tensorflow:From /usr/local/lib/python3.7/site-packages/tensorflow/python/ops/math_ops.py:3066: to_int32 (from tensorflow.python.ops.math_ops) is deprecated and will be removed in a future version.\n",
      "Instructions for updating:\n",
      "Use tf.cast instead.\n",
      "Train on 9865 samples, validate on 1097 samples\n",
      "Epoch 1/50\n",
      "9865/9865 [==============================] - 138s 14ms/step - loss: 0.6687 - acc: 0.6382 - val_loss: 0.5998 - val_acc: 0.6910\n",
      "Epoch 2/50\n",
      "9865/9865 [==============================] - 141s 14ms/step - loss: 0.5768 - acc: 0.7070 - val_loss: 0.5568 - val_acc: 0.7138\n",
      "Epoch 3/50\n",
      "9865/9865 [==============================] - 148s 15ms/step - loss: 0.5441 - acc: 0.7258 - val_loss: 0.5610 - val_acc: 0.7037\n",
      "Epoch 4/50\n",
      "9865/9865 [==============================] - 144s 15ms/step - loss: 0.5159 - acc: 0.7482 - val_loss: 0.6393 - val_acc: 0.6955\n",
      "Epoch 5/50\n",
      "9865/9865 [==============================] - 131s 13ms/step - loss: 0.4926 - acc: 0.7584 - val_loss: 0.5261 - val_acc: 0.7521\n",
      "Epoch 6/50\n",
      "9865/9865 [==============================] - 466s 47ms/step - loss: 0.4658 - acc: 0.7734 - val_loss: 0.4695 - val_acc: 0.7730\n",
      "Epoch 7/50\n",
      "9865/9865 [==============================] - 144s 15ms/step - loss: 0.4463 - acc: 0.7855 - val_loss: 0.4725 - val_acc: 0.7739\n",
      "Epoch 8/50\n",
      "9865/9865 [==============================] - 149s 15ms/step - loss: 0.4352 - acc: 0.7930 - val_loss: 0.4589 - val_acc: 0.7776\n",
      "Epoch 9/50\n",
      "9865/9865 [==============================] - 153s 15ms/step - loss: 0.4149 - acc: 0.8067 - val_loss: 0.4388 - val_acc: 0.7912\n",
      "Epoch 10/50\n",
      "9865/9865 [==============================] - 140s 14ms/step - loss: 0.3890 - acc: 0.8171 - val_loss: 0.4390 - val_acc: 0.7922\n",
      "Epoch 11/50\n",
      "9865/9865 [==============================] - 144s 15ms/step - loss: 0.3726 - acc: 0.8305 - val_loss: 0.4708 - val_acc: 0.7812\n",
      "Epoch 12/50\n",
      "9865/9865 [==============================] - 142s 14ms/step - loss: 0.3655 - acc: 0.8357 - val_loss: 0.4663 - val_acc: 0.7776\n",
      "Epoch 13/50\n",
      "9865/9865 [==============================] - 150s 15ms/step - loss: 0.3596 - acc: 0.8372 - val_loss: 0.4324 - val_acc: 0.7967\n",
      "Epoch 14/50\n",
      "9865/9865 [==============================] - 160s 16ms/step - loss: 0.3388 - acc: 0.8471 - val_loss: 0.4030 - val_acc: 0.8104\n",
      "Epoch 15/50\n",
      "9865/9865 [==============================] - 147s 15ms/step - loss: 0.3246 - acc: 0.8571 - val_loss: 0.4189 - val_acc: 0.8095\n",
      "Epoch 16/50\n",
      "9865/9865 [==============================] - 146s 15ms/step - loss: 0.3058 - acc: 0.8689 - val_loss: 0.4566 - val_acc: 0.8140\n",
      "Epoch 17/50\n",
      "9865/9865 [==============================] - 153s 16ms/step - loss: 0.3120 - acc: 0.8639 - val_loss: 0.4346 - val_acc: 0.8149\n",
      "Epoch 18/50\n",
      "9865/9865 [==============================] - 156s 16ms/step - loss: 0.2921 - acc: 0.8711 - val_loss: 0.4303 - val_acc: 0.8113\n",
      "Epoch 19/50\n",
      "9865/9865 [==============================] - 146s 15ms/step - loss: 0.2851 - acc: 0.8757 - val_loss: 0.4193 - val_acc: 0.8259\n",
      "Epoch 20/50\n",
      "9865/9865 [==============================] - 166s 17ms/step - loss: 0.2511 - acc: 0.8965 - val_loss: 0.4342 - val_acc: 0.8213\n",
      "Epoch 21/50\n",
      "9865/9865 [==============================] - 144s 15ms/step - loss: 0.2574 - acc: 0.8899 - val_loss: 0.4255 - val_acc: 0.8168\n",
      "Epoch 22/50\n",
      "9865/9865 [==============================] - 139s 14ms/step - loss: 0.2358 - acc: 0.8980 - val_loss: 0.4227 - val_acc: 0.8149\n",
      "Epoch 23/50\n",
      "9865/9865 [==============================] - 138s 14ms/step - loss: 0.2303 - acc: 0.9048 - val_loss: 0.4594 - val_acc: 0.8177\n",
      "Epoch 24/50\n",
      "9865/9865 [==============================] - 153s 16ms/step - loss: 0.2142 - acc: 0.9137 - val_loss: 0.4841 - val_acc: 0.8095\n",
      "Epoch 25/50\n",
      "9865/9865 [==============================] - 144s 15ms/step - loss: 0.2178 - acc: 0.9059 - val_loss: 0.5301 - val_acc: 0.8104\n",
      "Epoch 26/50\n",
      "9865/9865 [==============================] - 142s 14ms/step - loss: 0.2098 - acc: 0.9137 - val_loss: 0.5426 - val_acc: 0.8086\n",
      "Epoch 27/50\n",
      "9865/9865 [==============================] - 148s 15ms/step - loss: 0.1812 - acc: 0.9279 - val_loss: 0.5047 - val_acc: 0.7976\n",
      "Epoch 28/50\n",
      "9865/9865 [==============================] - 141s 14ms/step - loss: 0.1814 - acc: 0.9256 - val_loss: 0.4367 - val_acc: 0.8277\n",
      "Epoch 29/50\n",
      "9865/9865 [==============================] - 141s 14ms/step - loss: 0.1610 - acc: 0.9365 - val_loss: 0.5641 - val_acc: 0.8286\n",
      "Epoch 30/50\n",
      "9865/9865 [==============================] - 152s 15ms/step - loss: 0.1457 - acc: 0.9411 - val_loss: 0.4848 - val_acc: 0.8341\n",
      "Epoch 31/50\n",
      "9865/9865 [==============================] - 146s 15ms/step - loss: 0.1353 - acc: 0.9459 - val_loss: 0.4870 - val_acc: 0.8450\n",
      "Epoch 32/50\n",
      "9865/9865 [==============================] - 142s 14ms/step - loss: 0.1442 - acc: 0.9437 - val_loss: 0.4741 - val_acc: 0.8232\n",
      "Epoch 33/50\n",
      "9865/9865 [==============================] - 145s 15ms/step - loss: 0.1261 - acc: 0.9492 - val_loss: 0.5001 - val_acc: 0.8396\n",
      "Epoch 34/50\n",
      "9865/9865 [==============================] - 138s 14ms/step - loss: 0.1213 - acc: 0.9521 - val_loss: 0.5169 - val_acc: 0.8323\n",
      "Epoch 35/50\n",
      "9865/9865 [==============================] - 143s 14ms/step - loss: 0.1041 - acc: 0.9600 - val_loss: 0.5213 - val_acc: 0.8414\n",
      "Epoch 36/50\n",
      "9865/9865 [==============================] - 145s 15ms/step - loss: 0.0874 - acc: 0.9685 - val_loss: 0.5501 - val_acc: 0.8414\n",
      "Epoch 37/50\n",
      "9865/9865 [==============================] - 139s 14ms/step - loss: 0.1206 - acc: 0.9537 - val_loss: 0.5582 - val_acc: 0.8478\n",
      "Epoch 38/50\n",
      "9865/9865 [==============================] - 135s 14ms/step - loss: 0.0873 - acc: 0.9681 - val_loss: 0.5679 - val_acc: 0.8314\n",
      "Epoch 39/50\n",
      "9865/9865 [==============================] - 133s 13ms/step - loss: 0.0679 - acc: 0.9772 - val_loss: 0.6611 - val_acc: 0.8268\n",
      "Epoch 40/50\n",
      "9865/9865 [==============================] - 136s 14ms/step - loss: 0.0713 - acc: 0.9749 - val_loss: 0.7176 - val_acc: 0.8241\n",
      "Epoch 41/50\n",
      "9865/9865 [==============================] - 135s 14ms/step - loss: 0.0580 - acc: 0.9803 - val_loss: 0.6164 - val_acc: 0.8441\n",
      "Epoch 42/50\n",
      "6272/9865 [==================>...........] - ETA: 44s - loss: 0.0479 - acc: 0.9855"
     ]
    },
    {
     "ename": "KeyboardInterrupt",
     "evalue": "",
     "output_type": "error",
     "traceback": [
      "\u001b[0;31m---------------------------------------------------------------------------\u001b[0m",
      "\u001b[0;31mKeyboardInterrupt\u001b[0m                         Traceback (most recent call last)",
      "\u001b[0;32m<ipython-input-21-ce4ef7986362>\u001b[0m in \u001b[0;36m<module>\u001b[0;34m()\u001b[0m\n\u001b[1;32m      4\u001b[0m           \u001b[0mverbose\u001b[0m\u001b[0;34m=\u001b[0m\u001b[0;36m1\u001b[0m\u001b[0;34m,\u001b[0m\u001b[0;34m\u001b[0m\u001b[0;34m\u001b[0m\u001b[0m\n\u001b[1;32m      5\u001b[0m           \u001b[0mvalidation_data\u001b[0m\u001b[0;34m=\u001b[0m\u001b[0;34m(\u001b[0m\u001b[0mX_test\u001b[0m\u001b[0;34m,\u001b[0m \u001b[0my_test\u001b[0m\u001b[0;34m)\u001b[0m\u001b[0;34m,\u001b[0m\u001b[0;34m\u001b[0m\u001b[0;34m\u001b[0m\u001b[0m\n\u001b[0;32m----> 6\u001b[0;31m           callbacks=[history])\n\u001b[0m\u001b[1;32m      7\u001b[0m \u001b[0;34m\u001b[0m\u001b[0m\n\u001b[1;32m      8\u001b[0m \u001b[0;34m\u001b[0m\u001b[0m\n",
      "\u001b[0;32m/usr/local/lib/python3.7/site-packages/keras/engine/training.py\u001b[0m in \u001b[0;36mfit\u001b[0;34m(self, x, y, batch_size, epochs, verbose, callbacks, validation_split, validation_data, shuffle, class_weight, sample_weight, initial_epoch, steps_per_epoch, validation_steps, **kwargs)\u001b[0m\n\u001b[1;32m   1037\u001b[0m                                         \u001b[0minitial_epoch\u001b[0m\u001b[0;34m=\u001b[0m\u001b[0minitial_epoch\u001b[0m\u001b[0;34m,\u001b[0m\u001b[0;34m\u001b[0m\u001b[0;34m\u001b[0m\u001b[0m\n\u001b[1;32m   1038\u001b[0m                                         \u001b[0msteps_per_epoch\u001b[0m\u001b[0;34m=\u001b[0m\u001b[0msteps_per_epoch\u001b[0m\u001b[0;34m,\u001b[0m\u001b[0;34m\u001b[0m\u001b[0;34m\u001b[0m\u001b[0m\n\u001b[0;32m-> 1039\u001b[0;31m                                         validation_steps=validation_steps)\n\u001b[0m\u001b[1;32m   1040\u001b[0m \u001b[0;34m\u001b[0m\u001b[0m\n\u001b[1;32m   1041\u001b[0m     def evaluate(self, x=None, y=None,\n",
      "\u001b[0;32m/usr/local/lib/python3.7/site-packages/keras/engine/training_arrays.py\u001b[0m in \u001b[0;36mfit_loop\u001b[0;34m(model, f, ins, out_labels, batch_size, epochs, verbose, callbacks, val_f, val_ins, shuffle, callback_metrics, initial_epoch, steps_per_epoch, validation_steps)\u001b[0m\n\u001b[1;32m    197\u001b[0m                     \u001b[0mins_batch\u001b[0m\u001b[0;34m[\u001b[0m\u001b[0mi\u001b[0m\u001b[0;34m]\u001b[0m \u001b[0;34m=\u001b[0m \u001b[0mins_batch\u001b[0m\u001b[0;34m[\u001b[0m\u001b[0mi\u001b[0m\u001b[0;34m]\u001b[0m\u001b[0;34m.\u001b[0m\u001b[0mtoarray\u001b[0m\u001b[0;34m(\u001b[0m\u001b[0;34m)\u001b[0m\u001b[0;34m\u001b[0m\u001b[0;34m\u001b[0m\u001b[0m\n\u001b[1;32m    198\u001b[0m \u001b[0;34m\u001b[0m\u001b[0m\n\u001b[0;32m--> 199\u001b[0;31m                 \u001b[0mouts\u001b[0m \u001b[0;34m=\u001b[0m \u001b[0mf\u001b[0m\u001b[0;34m(\u001b[0m\u001b[0mins_batch\u001b[0m\u001b[0;34m)\u001b[0m\u001b[0;34m\u001b[0m\u001b[0;34m\u001b[0m\u001b[0m\n\u001b[0m\u001b[1;32m    200\u001b[0m                 \u001b[0mouts\u001b[0m \u001b[0;34m=\u001b[0m \u001b[0mto_list\u001b[0m\u001b[0;34m(\u001b[0m\u001b[0mouts\u001b[0m\u001b[0;34m)\u001b[0m\u001b[0;34m\u001b[0m\u001b[0;34m\u001b[0m\u001b[0m\n\u001b[1;32m    201\u001b[0m                 \u001b[0;32mfor\u001b[0m \u001b[0ml\u001b[0m\u001b[0;34m,\u001b[0m \u001b[0mo\u001b[0m \u001b[0;32min\u001b[0m \u001b[0mzip\u001b[0m\u001b[0;34m(\u001b[0m\u001b[0mout_labels\u001b[0m\u001b[0;34m,\u001b[0m \u001b[0mouts\u001b[0m\u001b[0;34m)\u001b[0m\u001b[0;34m:\u001b[0m\u001b[0;34m\u001b[0m\u001b[0;34m\u001b[0m\u001b[0m\n",
      "\u001b[0;32m/usr/local/lib/python3.7/site-packages/keras/backend/tensorflow_backend.py\u001b[0m in \u001b[0;36m__call__\u001b[0;34m(self, inputs)\u001b[0m\n\u001b[1;32m   2713\u001b[0m                 \u001b[0;32mreturn\u001b[0m \u001b[0mself\u001b[0m\u001b[0;34m.\u001b[0m\u001b[0m_legacy_call\u001b[0m\u001b[0;34m(\u001b[0m\u001b[0minputs\u001b[0m\u001b[0;34m)\u001b[0m\u001b[0;34m\u001b[0m\u001b[0;34m\u001b[0m\u001b[0m\n\u001b[1;32m   2714\u001b[0m \u001b[0;34m\u001b[0m\u001b[0m\n\u001b[0;32m-> 2715\u001b[0;31m             \u001b[0;32mreturn\u001b[0m \u001b[0mself\u001b[0m\u001b[0;34m.\u001b[0m\u001b[0m_call\u001b[0m\u001b[0;34m(\u001b[0m\u001b[0minputs\u001b[0m\u001b[0;34m)\u001b[0m\u001b[0;34m\u001b[0m\u001b[0;34m\u001b[0m\u001b[0m\n\u001b[0m\u001b[1;32m   2716\u001b[0m         \u001b[0;32melse\u001b[0m\u001b[0;34m:\u001b[0m\u001b[0;34m\u001b[0m\u001b[0;34m\u001b[0m\u001b[0m\n\u001b[1;32m   2717\u001b[0m             \u001b[0;32mif\u001b[0m \u001b[0mpy_any\u001b[0m\u001b[0;34m(\u001b[0m\u001b[0mis_tensor\u001b[0m\u001b[0;34m(\u001b[0m\u001b[0mx\u001b[0m\u001b[0;34m)\u001b[0m \u001b[0;32mfor\u001b[0m \u001b[0mx\u001b[0m \u001b[0;32min\u001b[0m \u001b[0minputs\u001b[0m\u001b[0;34m)\u001b[0m\u001b[0;34m:\u001b[0m\u001b[0;34m\u001b[0m\u001b[0;34m\u001b[0m\u001b[0m\n",
      "\u001b[0;32m/usr/local/lib/python3.7/site-packages/keras/backend/tensorflow_backend.py\u001b[0m in \u001b[0;36m_call\u001b[0;34m(self, inputs)\u001b[0m\n\u001b[1;32m   2673\u001b[0m             \u001b[0mfetched\u001b[0m \u001b[0;34m=\u001b[0m \u001b[0mself\u001b[0m\u001b[0;34m.\u001b[0m\u001b[0m_callable_fn\u001b[0m\u001b[0;34m(\u001b[0m\u001b[0;34m*\u001b[0m\u001b[0marray_vals\u001b[0m\u001b[0;34m,\u001b[0m \u001b[0mrun_metadata\u001b[0m\u001b[0;34m=\u001b[0m\u001b[0mself\u001b[0m\u001b[0;34m.\u001b[0m\u001b[0mrun_metadata\u001b[0m\u001b[0;34m)\u001b[0m\u001b[0;34m\u001b[0m\u001b[0;34m\u001b[0m\u001b[0m\n\u001b[1;32m   2674\u001b[0m         \u001b[0;32melse\u001b[0m\u001b[0;34m:\u001b[0m\u001b[0;34m\u001b[0m\u001b[0;34m\u001b[0m\u001b[0m\n\u001b[0;32m-> 2675\u001b[0;31m             \u001b[0mfetched\u001b[0m \u001b[0;34m=\u001b[0m \u001b[0mself\u001b[0m\u001b[0;34m.\u001b[0m\u001b[0m_callable_fn\u001b[0m\u001b[0;34m(\u001b[0m\u001b[0;34m*\u001b[0m\u001b[0marray_vals\u001b[0m\u001b[0;34m)\u001b[0m\u001b[0;34m\u001b[0m\u001b[0;34m\u001b[0m\u001b[0m\n\u001b[0m\u001b[1;32m   2676\u001b[0m         \u001b[0;32mreturn\u001b[0m \u001b[0mfetched\u001b[0m\u001b[0;34m[\u001b[0m\u001b[0;34m:\u001b[0m\u001b[0mlen\u001b[0m\u001b[0;34m(\u001b[0m\u001b[0mself\u001b[0m\u001b[0;34m.\u001b[0m\u001b[0moutputs\u001b[0m\u001b[0;34m)\u001b[0m\u001b[0;34m]\u001b[0m\u001b[0;34m\u001b[0m\u001b[0;34m\u001b[0m\u001b[0m\n\u001b[1;32m   2677\u001b[0m \u001b[0;34m\u001b[0m\u001b[0m\n",
      "\u001b[0;32m/usr/local/lib/python3.7/site-packages/tensorflow/python/client/session.py\u001b[0m in \u001b[0;36m__call__\u001b[0;34m(self, *args, **kwargs)\u001b[0m\n\u001b[1;32m   1437\u001b[0m           ret = tf_session.TF_SessionRunCallable(\n\u001b[1;32m   1438\u001b[0m               \u001b[0mself\u001b[0m\u001b[0;34m.\u001b[0m\u001b[0m_session\u001b[0m\u001b[0;34m.\u001b[0m\u001b[0m_session\u001b[0m\u001b[0;34m,\u001b[0m \u001b[0mself\u001b[0m\u001b[0;34m.\u001b[0m\u001b[0m_handle\u001b[0m\u001b[0;34m,\u001b[0m \u001b[0margs\u001b[0m\u001b[0;34m,\u001b[0m \u001b[0mstatus\u001b[0m\u001b[0;34m,\u001b[0m\u001b[0;34m\u001b[0m\u001b[0;34m\u001b[0m\u001b[0m\n\u001b[0;32m-> 1439\u001b[0;31m               run_metadata_ptr)\n\u001b[0m\u001b[1;32m   1440\u001b[0m         \u001b[0;32mif\u001b[0m \u001b[0mrun_metadata\u001b[0m\u001b[0;34m:\u001b[0m\u001b[0;34m\u001b[0m\u001b[0;34m\u001b[0m\u001b[0m\n\u001b[1;32m   1441\u001b[0m           \u001b[0mproto_data\u001b[0m \u001b[0;34m=\u001b[0m \u001b[0mtf_session\u001b[0m\u001b[0;34m.\u001b[0m\u001b[0mTF_GetBuffer\u001b[0m\u001b[0;34m(\u001b[0m\u001b[0mrun_metadata_ptr\u001b[0m\u001b[0;34m)\u001b[0m\u001b[0;34m\u001b[0m\u001b[0;34m\u001b[0m\u001b[0m\n",
      "\u001b[0;31mKeyboardInterrupt\u001b[0m: "
     ]
    }
   ],
   "source": [
    "model.fit(X_train, y_train,\n",
    "          batch_size=batch_size,\n",
    "          epochs=epochs,\n",
    "          verbose=1,\n",
    "          validation_data=(X_test, y_test),\n",
    "          callbacks=[history])\n",
    "\n",
    "\n",
    "score = model.evaluate(X_test, y_test, verbose=0)\n",
    "print('Test loss:', score[0])\n",
    "print('Test accuracy:', score[1])\n",
    "\n",
    "plt.plot(range(1,len(history.acc) + 1), history.acc)\n",
    "plt.xlabel('Epochs')\n",
    "plt.ylabel('Accuracy')\n",
    "plt.show()"
   ]
  },
  {
   "cell_type": "code",
   "execution_count": null,
   "metadata": {},
   "outputs": [],
   "source": [
    "\n",
    "plt.plot(range(1,len(history.acc) + 1), history.acc)\n",
    "plt.xlabel('Epochs')\n",
    "plt.ylabel('Accuracy')\n",
    "plt.show()"
   ]
  }
 ],
 "metadata": {
  "kernelspec": {
   "display_name": "Python 3",
   "language": "python",
   "name": "python3"
  },
  "language_info": {
   "codemirror_mode": {
    "name": "ipython",
    "version": 3
   },
   "file_extension": ".py",
   "mimetype": "text/x-python",
   "name": "python",
   "nbconvert_exporter": "python",
   "pygments_lexer": "ipython3",
   "version": "3.7.2"
  }
 },
 "nbformat": 4,
 "nbformat_minor": 2
}
