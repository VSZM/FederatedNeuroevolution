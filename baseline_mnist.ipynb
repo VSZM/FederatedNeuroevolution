{
 "cells": [
  {
   "cell_type": "code",
   "execution_count": null,
   "metadata": {},
   "outputs": [],
   "source": [
    "from common import Trial\n",
    "from typing import List\n",
    "from tqdm import tqdm\n",
    "import re\n",
    "import traceback\n",
    "import numpy as np\n",
    "import os\n",
    "import pandas as pd\n",
    "import sys\n",
    "from sklearn.model_selection import train_test_split\n",
    "import keras\n",
    "from keras.layers import Dense, Flatten\n",
    "from keras.layers import Conv2D, MaxPooling2D\n",
    "from keras.models import Sequential\n",
    "import matplotlib.pylab as plt\n",
    "\n"
   ]
  },
  {
   "cell_type": "code",
   "execution_count": null,
   "metadata": {},
   "outputs": [],
   "source": [
    "channel_map = {'FP1': 0,\n",
    " 'FP2': 1,\n",
    " 'F7': 2,\n",
    " 'F8': 3,\n",
    " 'AF1': 4,\n",
    " 'AF2': 5,\n",
    " 'FZ': 6,\n",
    " 'F4': 7,\n",
    " 'F3': 8,\n",
    " 'FC6': 9,\n",
    " 'FC5': 10,\n",
    " 'FC2': 11,\n",
    " 'FC1': 12,\n",
    " 'T8': 13,\n",
    " 'T7': 14,\n",
    " 'CZ': 15,\n",
    " 'C3': 16,\n",
    " 'C4': 17,\n",
    " 'CP5': 18,\n",
    " 'CP6': 19,\n",
    " 'CP1': 20,\n",
    " 'CP2': 21,\n",
    " 'P3': 22,\n",
    " 'P4': 23,\n",
    " 'PZ': 24,\n",
    " 'P8': 25,\n",
    " 'P7': 26,\n",
    " 'PO2': 27,\n",
    " 'PO1': 28,\n",
    " 'O2': 29,\n",
    " 'O1': 30,\n",
    " 'X': 31,\n",
    " 'AF7': 32,\n",
    " 'AF8': 33,\n",
    " 'F5': 34,\n",
    " 'F6': 35,\n",
    " 'FT7': 36,\n",
    " 'FT8': 37,\n",
    " 'FPZ': 38,\n",
    " 'FC4': 39,\n",
    " 'FC3': 40,\n",
    " 'C6': 41,\n",
    " 'C5': 42,\n",
    " 'F2': 43,\n",
    " 'F1': 44,\n",
    " 'TP8': 45,\n",
    " 'TP7': 46,\n",
    " 'AFZ': 47,\n",
    " 'CP3': 48,\n",
    " 'CP4': 49,\n",
    " 'P5': 50,\n",
    " 'P6': 51,\n",
    " 'C1': 52,\n",
    " 'C2': 53,\n",
    " 'PO7': 54,\n",
    " 'PO8': 55,\n",
    " 'FCZ': 56,\n",
    " 'POZ': 57,\n",
    " 'OZ': 58,\n",
    " 'P2': 59,\n",
    " 'P1': 60,\n",
    " 'CPZ': 61,\n",
    " 'nd': 62,\n",
    " 'Y': 63}"
   ]
  },
  {
   "cell_type": "code",
   "execution_count": null,
   "metadata": {},
   "outputs": [],
   "source": [
    "with open('eeg_full/co2a0000364.txt', 'r') as f:\n",
    "    file_content = f.read()\n",
    "    \n",
    "print(file_content[:200])\n"
   ]
  },
  {
   "cell_type": "code",
   "execution_count": null,
   "metadata": {},
   "outputs": [],
   "source": [
    "trials = list(filter(lambda string: len(string) > 0, re.split(r'^# co\\w{9}.rd', file_content, flags=re.MULTILINE)))\n",
    "trials[0]\n",
    "\n",
    "trial = trials[0]\n",
    "subject_id = file_content[2:13]\n",
    "if 'a' == subject_id[3]:\n",
    "    subject_class = 1\n",
    "elif 'c' == subject_id[3]:\n",
    "    subject_class = 0\n",
    "else:\n",
    "    raise ValueError('Invalid subject class: ' + subject_id)\n",
    "    \n",
    "lines = trial.split('\\n')\n",
    "trial_type_str, trial_number = tuple(lines[3].split(' , trial'))\n",
    "trial_number = int(trial_number)\n",
    "\n",
    "if trial_type_str == '# S1 obj':\n",
    "    trial_type = 0\n",
    "elif trial_type_str == '# S2 match':\n",
    "    trial_type = 1\n",
    "elif trial_type_str == '# S2 nomatch':\n",
    "    trial_type = 2\n",
    "else:\n",
    "    raise ValueError('Invalid trial_type_str: ' + trial_type_str)\n",
    "\n",
    "lines = lines[4:]\n"
   ]
  },
  {
   "cell_type": "code",
   "execution_count": null,
   "metadata": {},
   "outputs": [],
   "source": [
    "measurements = [(channel_map[line.split()[1]], int(line.split()[2]), float(line.split()[3])) for line in lines if len(line) > 0 and line[0] != '#']\n",
    "measurements = np.array(measurements)\n",
    "\n",
    "print(measurements)"
   ]
  },
  {
   "cell_type": "code",
   "execution_count": null,
   "metadata": {},
   "outputs": [],
   "source": [
    "eeg = measurements[:, 2].reshape((64,256))\n",
    "eeg = np.array([np.mean(eeg_channel.reshape(-1, 4), axis=1) for eeg_channel in eeg[::1]])\n",
    "eeg = (eeg - np.min(eeg))/np.ptp(eeg)"
   ]
  },
  {
   "cell_type": "code",
   "execution_count": null,
   "metadata": {},
   "outputs": [],
   "source": [
    "eeg"
   ]
  },
  {
   "cell_type": "code",
   "execution_count": null,
   "metadata": {},
   "outputs": [],
   "source": [
    "Trial(subject_id, subject_class, trial_number, trial_type, eeg)"
   ]
  },
  {
   "cell_type": "code",
   "execution_count": null,
   "metadata": {},
   "outputs": [],
   "source": [
    "errors = 0\n",
    "zeros = 0\n",
    "\n",
    "def read_trials(eeg_file: str) -> List[Trial]:\n",
    "    global errors, zeros\n",
    "    \n",
    "    with open(eeg_file, 'r') as f:\n",
    "        file_content = f.read()\n",
    "        \n",
    "        subject_id = file_content[2:13]\n",
    "        if 'a' == subject_id[3]:\n",
    "            subject_class = 1\n",
    "        elif 'c' == subject_id[3]:\n",
    "            subject_class = 0\n",
    "        else:\n",
    "            raise ValueError('Invalid subject class: ' + subject_id)\n",
    "        \n",
    "        trials = []\n",
    "        trials_str = list(filter(lambda string: len(string) > 0, re.split(r'^# co\\w{9}.rd', file_content, flags=re.MULTILINE)))\n",
    "\n",
    "        \n",
    "        for trial in trials_str:\n",
    "            try:\n",
    "                lines = list(filter(lambda line: len(line) > 0, map(lambda line: line.strip(), trial.split('\\n'))))\n",
    "                trial_type_str, trial_number = tuple(lines[2].split(', trial'))\n",
    "                trial_number = int(trial_number)\n",
    "\n",
    "                if 'err' in trial_type_str:\n",
    "                    print('Skipping trial |{}| from file |{}| due to error type'.format(trial_number, eeg_file))\n",
    "                    errors = errors + 1\n",
    "                    continue\n",
    "                elif trial_type_str.startswith('# S1 obj'):\n",
    "                    trial_type = 0\n",
    "                elif trial_type_str.startswith('# S2 match'):\n",
    "                    trial_type = 1\n",
    "                elif trial_type_str.startswith('# S2 nomatch'):\n",
    "                    trial_type = 2\n",
    "                else:\n",
    "                    raise ValueError('Invalid trial_type_str: ' + trial_type_str)\n",
    "\n",
    "                lines = lines[4:]\n",
    "\n",
    "                measurements = [(channel_map[line.split()[1]], int(line.split()[2]), float(line.split()[3])) for line in lines if len(line) > 0 and line[0] != '#']\n",
    "                measurements = np.array(measurements)\n",
    "                eeg = measurements[:, 2].reshape((64,256))\n",
    "                eeg = np.array([np.mean(eeg_channel.reshape(-1, 4), axis=1) for eeg_channel in eeg[::1]])\n",
    "                eeg = (eeg - np.min(eeg))/np.ptp(eeg)\n",
    "                \n",
    "\n",
    "                if np.count_nonzero(eeg) == 0:\n",
    "                    print('Skipping trial |{}| from file |{}| due to only 0 values'.format(trial_number, eeg_file))\n",
    "                    zeros = zeros + 1\n",
    "                    continue\n",
    "                    \n",
    "                trials.append(Trial(subject_id, subject_class, trial_number, trial_type, eeg))\n",
    "            except:\n",
    "                print(traceback.format_exc())\n",
    "                print('Error in file: |{}|'.format(eeg_file))\n",
    "                print('Error for: |{}|'.format(trial))\n",
    "                print('Error for: |{}|'.format(lines[2]))\n",
    "                raise\n",
    "                \n",
    "            \n",
    "        return trials\n"
   ]
  },
  {
   "cell_type": "code",
   "execution_count": null,
   "metadata": {},
   "outputs": [],
   "source": [
    "all_trials = []\n",
    "\n",
    "for file in tqdm(os.listdir('eeg_full')):\n",
    "    all_trials = all_trials + read_trials('eeg_full/' + file)\n",
    "    \n",
    "print('Good trials: {}, Error trials: {}, Zeros trials: {}'.format(len(all_trials), errors, zeros))"
   ]
  },
  {
   "cell_type": "code",
   "execution_count": null,
   "metadata": {},
   "outputs": [],
   "source": [
    "df = pd.DataFrame.from_records([trial.to_dict() for trial in all_trials])\n",
    "df = df.sample(frac=1).reset_index(drop=True)"
   ]
  },
  {
   "cell_type": "code",
   "execution_count": null,
   "metadata": {},
   "outputs": [],
   "source": [
    "sys.getsizeof(df)"
   ]
  },
  {
   "cell_type": "code",
   "execution_count": null,
   "metadata": {},
   "outputs": [],
   "source": [
    "df.head()"
   ]
  },
  {
   "cell_type": "code",
   "execution_count": null,
   "metadata": {},
   "outputs": [],
   "source": [
    "df.describe()"
   ]
  },
  {
   "cell_type": "code",
   "execution_count": null,
   "metadata": {},
   "outputs": [],
   "source": [
    "X = df['eeg'].values\n",
    "y = df['subject_class'].values\n",
    "\n",
    "# keras required format\n",
    "X = np.rollaxis(np.dstack(X), -1)\n",
    "X = X.reshape(X.shape[0], 64, 64, 1)\n",
    "y = keras.utils.to_categorical(y, 2)"
   ]
  },
  {
   "cell_type": "code",
   "execution_count": null,
   "metadata": {},
   "outputs": [],
   "source": [
    "X.shape"
   ]
  },
  {
   "cell_type": "code",
   "execution_count": null,
   "metadata": {},
   "outputs": [],
   "source": [
    "X_train, X_test, y_train, y_test = train_test_split(X, y, test_size=0.1)"
   ]
  },
  {
   "cell_type": "code",
   "execution_count": null,
   "metadata": {},
   "outputs": [],
   "source": [
    "input_shape = (64, 64, 1)\n",
    "num_classes = 2\n",
    "batch_size=128\n",
    "epochs=50\n",
    "\n",
    "model = Sequential()\n",
    "model.add(Conv2D(32, kernel_size=(5, 5), strides=(1, 1),\n",
    "                 activation='relu',\n",
    "                 input_shape=input_shape))\n",
    "model.add(MaxPooling2D(pool_size=(2, 2), strides=(2, 2)))\n",
    "model.add(Conv2D(64, (5, 5), activation='relu'))\n",
    "model.add(MaxPooling2D(pool_size=(2, 2)))\n",
    "model.add(Flatten())\n",
    "model.add(Dense(1000, activation='relu'))\n",
    "model.add(Dense(num_classes, activation='softmax'))\n"
   ]
  },
  {
   "cell_type": "code",
   "execution_count": null,
   "metadata": {},
   "outputs": [],
   "source": [
    "model.compile(loss=keras.losses.categorical_crossentropy,\n",
    "              optimizer=keras.optimizers.Adam(),\n",
    "              metrics=['accuracy'])\n",
    "\n",
    "model.summary()"
   ]
  },
  {
   "cell_type": "code",
   "execution_count": null,
   "metadata": {},
   "outputs": [],
   "source": [
    "class AccuracyHistory(keras.callbacks.Callback):\n",
    "    def on_train_begin(self, logs={}):\n",
    "        self.acc = []\n",
    "\n",
    "    def on_epoch_end(self, batch, logs={}):\n",
    "        self.acc.append(logs.get('val_acc'))\n",
    "        \n",
    "history = AccuracyHistory()\n"
   ]
  },
  {
   "cell_type": "code",
   "execution_count": null,
   "metadata": {},
   "outputs": [],
   "source": [
    "model.fit(X_train, y_train,\n",
    "          batch_size=batch_size,\n",
    "          epochs=epochs,\n",
    "          verbose=1,\n",
    "          validation_data=(X_test, y_test),\n",
    "          callbacks=[history])\n",
    "\n",
    "\n",
    "score = model.evaluate(X_test, y_test, verbose=0)\n",
    "print('Test loss:', score[0])\n",
    "print('Test accuracy:', score[1])\n",
    "\n",
    "plt.plot(range(1,len(history.acc) + 1), history.acc)\n",
    "plt.xlabel('Epochs')\n",
    "plt.ylabel('Accuracy')\n",
    "plt.show()"
   ]
  },
  {
   "cell_type": "code",
   "execution_count": null,
   "metadata": {},
   "outputs": [],
   "source": [
    "\n",
    "plt.plot(range(1,len(history.acc) + 1), history.acc)\n",
    "plt.xlabel('Epochs')\n",
    "plt.ylabel('Accuracy')\n",
    "plt.show()"
   ]
  }
 ],
 "metadata": {
  "kernelspec": {
   "display_name": "Python 3",
   "language": "python",
   "name": "python3"
  },
  "language_info": {
   "codemirror_mode": {
    "name": "ipython",
    "version": 3
   },
   "file_extension": ".py",
   "mimetype": "text/x-python",
   "name": "python",
   "nbconvert_exporter": "python",
   "pygments_lexer": "ipython3",
   "version": "3.6.8"
  }
 },
 "nbformat": 4,
 "nbformat_minor": 2
}
