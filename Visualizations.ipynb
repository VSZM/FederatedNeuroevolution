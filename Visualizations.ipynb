{
 "cells": [
  {
   "cell_type": "code",
   "execution_count": null,
   "metadata": {},
   "outputs": [],
   "source": [
    "import pickle\n",
    "import seaborn as sns\n",
    "import matplotlib.pyplot as plt\n",
    "import pandas as pd\n",
    "import numpy as np"
   ]
  },
  {
   "cell_type": "code",
   "execution_count": null,
   "metadata": {},
   "outputs": [],
   "source": [
    "with open('federated_genetic_random_nodes.py.nodes', 'rb') as f:\n",
    "    nodes = pickle.load(f)\n",
    "\n",
    "print(nodes)"
   ]
  },
  {
   "cell_type": "code",
   "execution_count": null,
   "metadata": {},
   "outputs": [],
   "source": [
    "def node_to_tuple(node):\n",
    "    # Non alcoholic: [1, 0], Alcoholic: [0, 1]\n",
    "    argmaxed = np.argmax(node.y, axis = 1)\n",
    "    alcoholic_count = np.count_nonzero(argmaxed == 1)\n",
    "    non_alcoholic_count = np.count_nonzero(argmaxed == 0)\n",
    "\n",
    "    return (node.id, len(node.y), alcoholic_count, non_alcoholic_count)\n",
    "\n",
    "df = pd.DataFrame([node_to_tuple(node) for node in nodes], columns = ['node_id', 'total', 'alcoholic', 'non_alcoholic'])\n",
    "df.head()\n",
    "df.d"
   ]
  },
  {
   "cell_type": "code",
   "execution_count": null,
   "metadata": {},
   "outputs": [],
   "source": [
    "df.describe()"
   ]
  },
  {
   "cell_type": "code",
   "execution_count": null,
   "metadata": {},
   "outputs": [],
   "source": [
    "import seaborn as sns\n",
    "import matplotlib.pyplot as plt\n",
    "sns.set(style=\"whitegrid\")\n",
    "\n",
    "f, ax = plt.subplots(figsize=(12, 17))\n",
    "\n",
    "sns.set_color_codes(\"pastel\")\n",
    "sns.barplot(x=\"total\", y=\"node_id\", data=df,\n",
    "            label=\"Control\", color=\"g\", orient='h')\n",
    "\n",
    "sns.barplot(x=\"alcoholic\", y=\"node_id\", data=df,\n",
    "            label=\"Alcoholic\", color=\"r\", orient='h')\n",
    "\n",
    "# Add a legend and informative axis label\n",
    "ax.legend(ncol=2, loc=\"lower right\", frameon=True)\n",
    "ax.set(ylim=(0, 99), xlim=(0,50), ylabel=\"node id\",\n",
    "       xlabel=\"Sample count on node\")\n",
    "sns.despine(left=True, bottom=True)"
   ]
  },
  {
   "cell_type": "code",
   "execution_count": null,
   "metadata": {},
   "outputs": [],
   "source": [
    "with open('federated_genetic_random_nodes.py.checkpoint', 'rb') as f:\n",
    "    fitnesses, accuracies, _, _ =pickle.load(f)"
   ]
  },
  {
   "cell_type": "code",
   "execution_count": null,
   "metadata": {},
   "outputs": [],
   "source": [
    "df = pd.DataFrame([(fitnesses[i], accuracies[i]) for i in range(len(accuracies))], columns = ['fitness', 'accuracy'])\n",
    "df.head()"
   ]
  },
  {
   "cell_type": "code",
   "execution_count": null,
   "metadata": {},
   "outputs": [],
   "source": [
    "f, ax = plt.subplots(figsize=(12, 15))\n",
    "sns.set(style=\"whitegrid\")\n",
    "\n",
    "\n",
    "sns.lineplot(data=df[1400:1600], linewidth=2, dashes=False, palette=\"tab10\")#palette=sns.color_palette(\"mako_r\", 2))"
   ]
  },
  {
   "cell_type": "code",
   "execution_count": null,
   "metadata": {},
   "outputs": [],
   "source": [
    "min(accuracies),max(accuracies)"
   ]
  },
  {
   "cell_type": "code",
   "execution_count": null,
   "metadata": {},
   "outputs": [],
   "source": [
    "min(fitnesses),max(fitnesses)"
   ]
  }
 ],
 "metadata": {
  "kernelspec": {
   "display_name": "TensorFlow-GPU",
   "language": "python",
   "name": "tf-gpu"
  },
  "language_info": {
   "codemirror_mode": {
    "name": "ipython",
    "version": 3
   },
   "file_extension": ".py",
   "mimetype": "text/x-python",
   "name": "python",
   "nbconvert_exporter": "python",
   "pygments_lexer": "ipython3",
   "version": "3.6.8"
  }
 },
 "nbformat": 4,
 "nbformat_minor": 2
}
